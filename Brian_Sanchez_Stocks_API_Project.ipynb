{
  "cells": [
    {
      "cell_type": "code",
      "execution_count": null,
      "metadata": {
        "collapsed": true,
        "id": "bTavgOytYyCb"
      },
      "outputs": [],
      "source": [
        "import yfinance as yf\n",
        "import pandas as pd\n",
        "\n",
        "tickers = yf.Tickers('aapl nke sbux hd cmg')\n",
        "\n",
        "tickers.tickers['AAPL'].info\n",
        "tickers.tickers['NKE'].info\n",
        "tickers.tickers['SBUX'].info\n",
        "tickers.tickers['HD'].info\n",
        "tickers.tickers['CMG'].info\n",
        "\n",
        "aapl = yf.Ticker(\"AAPL\")\n",
        "nke = yf.Ticker(\"NKE\")\n",
        "sbux = yf.Ticker(\"SBUX\")\n",
        "hd = yf.Ticker(\"HD\")\n",
        "cmg = yf.Ticker(\"CMG\")\n"
      ]
    },
    {
      "cell_type": "markdown",
      "source": [
        "## **APPLE STOCK INFORMATION**\n",
        "\n",
        "\n",
        "\n"
      ],
      "metadata": {
        "id": "NcO0E-duU_o2"
      }
    },
    {
      "cell_type": "code",
      "source": [
        "import pandas as pd\n",
        "aapl = yf.Ticker(\"AAPL\")"
      ],
      "metadata": {
        "id": "SvWLIgahXNR4"
      },
      "execution_count": null,
      "outputs": []
    },
    {
      "cell_type": "code",
      "execution_count": null,
      "metadata": {
        "colab": {
          "base_uri": "https://localhost:8080/"
        },
        "collapsed": true,
        "id": "H8ffwgkeNQJV",
        "outputId": "d67bece6-1fa6-4482-9865-4afb2b584575"
      },
      "outputs": [
        {
          "output_type": "stream",
          "name": "stdout",
          "text": [
            "{'address1': 'One Apple Park Way', 'city': 'Cupertino', 'state': 'CA', 'zip': '95014', 'country': 'United States', 'phone': '408 996 1010', 'website': 'https://www.apple.com', 'industry': 'Consumer Electronics', 'industryKey': 'consumer-electronics', 'industryDisp': 'Consumer Electronics', 'sector': 'Technology', 'sectorKey': 'technology', 'sectorDisp': 'Technology', 'longBusinessSummary': 'Apple Inc. designs, manufactures, and markets smartphones, personal computers, tablets, wearables, and accessories worldwide. The company offers iPhone, a line of smartphones; Mac, a line of personal computers; iPad, a line of multi-purpose tablets; and wearables, home, and accessories comprising AirPods, Apple TV, Apple Watch, Beats products, and HomePod. It also provides AppleCare support and cloud services; and operates various platforms, including the App Store that allow customers to discover and download applications and digital content, such as books, music, video, games, and podcasts. In addition, the company offers various services, such as Apple Arcade, a game subscription service; Apple Fitness+, a personalized fitness service; Apple Music, which offers users a curated listening experience with on-demand radio stations; Apple News+, a subscription news and magazine service; Apple TV+, which offers exclusive original content; Apple Card, a co-branded credit card; and Apple Pay, a cashless payment service, as well as licenses its intellectual property. The company serves consumers, and small and mid-sized businesses; and the education, enterprise, and government markets. It distributes third-party applications for its products through the App Store. The company also sells its products through its retail and online stores, and direct sales force; and third-party cellular network carriers, wholesalers, retailers, and resellers. Apple Inc. was founded in 1976 and is headquartered in Cupertino, California.', 'fullTimeEmployees': 161000, 'companyOfficers': [{'maxAge': 1, 'name': 'Mr. Timothy D. Cook', 'age': 62, 'title': 'CEO & Director', 'yearBorn': 1961, 'fiscalYear': 2023, 'totalPay': 16239562, 'exercisedValue': 0, 'unexercisedValue': 0}, {'maxAge': 1, 'name': 'Mr. Luca  Maestri', 'age': 60, 'title': 'CFO & Senior VP', 'yearBorn': 1963, 'fiscalYear': 2023, 'totalPay': 4612242, 'exercisedValue': 0, 'unexercisedValue': 0}, {'maxAge': 1, 'name': 'Mr. Jeffrey E. Williams', 'age': 59, 'title': 'Chief Operating Officer', 'yearBorn': 1964, 'fiscalYear': 2023, 'totalPay': 4637585, 'exercisedValue': 0, 'unexercisedValue': 0}, {'maxAge': 1, 'name': 'Ms. Katherine L. Adams', 'age': 59, 'title': 'Senior VP, General Counsel & Secretary', 'yearBorn': 1964, 'fiscalYear': 2023, 'totalPay': 4618064, 'exercisedValue': 0, 'unexercisedValue': 0}, {'maxAge': 1, 'name': \"Ms. Deirdre  O'Brien\", 'age': 56, 'title': 'Senior Vice President of Retail', 'yearBorn': 1967, 'fiscalYear': 2023, 'totalPay': 4613369, 'exercisedValue': 0, 'unexercisedValue': 0}, {'maxAge': 1, 'name': 'Mr. Chris  Kondo', 'title': 'Senior Director of Corporate Accounting', 'fiscalYear': 2023, 'exercisedValue': 0, 'unexercisedValue': 0}, {'maxAge': 1, 'name': 'Mr. James  Wilson', 'title': 'Chief Technology Officer', 'fiscalYear': 2023, 'exercisedValue': 0, 'unexercisedValue': 0}, {'maxAge': 1, 'name': 'Suhasini  Chandramouli', 'title': 'Director of Investor Relations', 'fiscalYear': 2023, 'exercisedValue': 0, 'unexercisedValue': 0}, {'maxAge': 1, 'name': 'Mr. Greg  Joswiak', 'title': 'Senior Vice President of Worldwide Marketing', 'fiscalYear': 2023, 'exercisedValue': 0, 'unexercisedValue': 0}, {'maxAge': 1, 'name': 'Mr. Adrian  Perica', 'age': 49, 'title': 'Head of Corporate Development', 'yearBorn': 1974, 'fiscalYear': 2023, 'exercisedValue': 0, 'unexercisedValue': 0}], 'auditRisk': 6, 'boardRisk': 1, 'compensationRisk': 2, 'shareHolderRightsRisk': 1, 'overallRisk': 1, 'governanceEpochDate': 1722470400, 'compensationAsOfEpochDate': 1703980800, 'irWebsite': 'http://investor.apple.com/', 'maxAge': 86400, 'priceHint': 2, 'previousClose': 217.53, 'open': 219.105, 'dayLow': 219.01, 'dayHigh': 221.89, 'regularMarketPreviousClose': 217.53, 'regularMarketOpen': 219.105, 'regularMarketDayLow': 219.01, 'regularMarketDayHigh': 221.89, 'dividendRate': 1.0, 'dividendYield': 0.0046, 'exDividendDate': 1723420800, 'payoutRatio': 0.1476, 'fiveYearAvgDividendYield': 0.68, 'beta': 1.244, 'trailingPE': 33.678844, 'forwardPE': 29.542057, 'volume': 41453325, 'regularMarketVolume': 41453325, 'averageVolume': 65826293, 'averageVolume10days': 63983030, 'averageDailyVolume10Day': 63983030, 'bid': 221.04, 'ask': 221.18, 'bidSize': 100, 'askSize': 100, 'marketCap': 3364211392512, 'fiftyTwoWeekLow': 164.08, 'fiftyTwoWeekHigh': 237.23, 'priceToSalesTrailing12Months': 8.724546, 'fiftyDayAverage': 215.2808, 'twoHundredDayAverage': 190.6497, 'trailingAnnualDividendRate': 0.97, 'trailingAnnualDividendYield': 0.0044591553, 'currency': 'USD', 'enterpriseValue': 3346859032576, 'profitMargins': 0.26441, 'floatShares': 15179506298, 'sharesOutstanding': 15204100096, 'sharesShort': 117696224, 'sharesShortPriorMonth': 132235437, 'sharesShortPreviousMonthDate': 1719532800, 'dateShortInterest': 1722384000, 'sharesPercentSharesOut': 0.0077, 'heldPercentInsiders': 0.05264, 'heldPercentInstitutions': 0.58795, 'shortRatio': 2.25, 'shortPercentOfFloat': 0.0077, 'impliedSharesOutstanding': 15410899968, 'bookValue': 4.382, 'priceToBook': 50.49521, 'lastFiscalYearEnd': 1696032000, 'nextFiscalYearEnd': 1727654400, 'mostRecentQuarter': 1719619200, 'earningsQuarterlyGrowth': 0.079, 'netIncomeToCommon': 101956001792, 'trailingEps': 6.57, 'forwardEps': 7.49, 'pegRatio': 2.92, 'lastSplitFactor': '4:1', 'lastSplitDate': 1598832000, 'enterpriseToRevenue': 8.68, 'enterpriseToEbitda': 25.397, '52WeekChange': 0.22586644, 'SandP52WeekChange': 0.20427191, 'lastDividendValue': 0.25, 'lastDividendDate': 1723420800, 'exchange': 'NMS', 'quoteType': 'EQUITY', 'symbol': 'AAPL', 'underlyingSymbol': 'AAPL', 'shortName': 'Apple Inc.', 'longName': 'Apple Inc.', 'firstTradeDateEpochUtc': 345479400, 'timeZoneFullName': 'America/New_York', 'timeZoneShortName': 'EDT', 'uuid': '8b10e4ae-9eeb-3684-921a-9ab27e4d87aa', 'messageBoardId': 'finmb_24937', 'gmtOffSetMilliseconds': -14400000, 'currentPrice': 221.27, 'targetHighPrice': 300.0, 'targetLowPrice': 183.86, 'targetMeanPrice': 236.23, 'targetMedianPrice': 240.5, 'recommendationMean': 2.0, 'recommendationKey': 'buy', 'numberOfAnalystOpinions': 38, 'totalCash': 61801000960, 'totalCashPerShare': 4.065, 'ebitda': 131781001216, 'totalDebt': 101304000512, 'quickRatio': 0.798, 'currentRatio': 0.953, 'totalRevenue': 385603010560, 'debtToEquity': 151.862, 'revenuePerShare': 24.957, 'returnOnAssets': 0.22612, 'returnOnEquity': 1.60583, 'freeCashflow': 86158123008, 'operatingCashflow': 113040998400, 'earningsGrowth': 0.111, 'revenueGrowth': 0.049, 'grossMargins': 0.45962003, 'ebitdaMargins': 0.34175, 'operatingMargins': 0.29556, 'financialCurrency': 'USD', 'trailingPegRatio': 2.1412}\n"
          ]
        }
      ],
      "source": [
        "print(aapl.info)"
      ]
    },
    {
      "cell_type": "markdown",
      "source": [
        "## **AAPL DATA IN 1 MONTH**"
      ],
      "metadata": {
        "id": "kza3mSkweaHs"
      }
    },
    {
      "cell_type": "code",
      "source": [
        "data = pd.DataFrame(yf.download(\"AAPL\", period=\"1mo\"))\n",
        "data.Close.median()"
      ],
      "metadata": {
        "colab": {
          "base_uri": "https://localhost:8080/"
        },
        "collapsed": true,
        "id": "mAoUP8FCUd3p",
        "outputId": "7f2740c7-2317-43e2-e023-613b585053c6"
      },
      "execution_count": null,
      "outputs": [
        {
          "output_type": "stream",
          "name": "stderr",
          "text": [
            "\r[*********************100%%**********************]  1 of 1 completed\n"
          ]
        },
        {
          "output_type": "execute_result",
          "data": {
            "text/plain": [
              "218.6699981689453"
            ]
          },
          "metadata": {},
          "execution_count": 123
        }
      ]
    },
    {
      "cell_type": "markdown",
      "source": [
        "\n",
        "\n",
        "```\n",
        "The median of AAPL in 1 Month is 219 (rounding)\n",
        "```\n",
        "\n"
      ],
      "metadata": {
        "id": "-9tPYmX1dqZC"
      }
    },
    {
      "cell_type": "code",
      "source": [
        "data = pd.DataFrame(yf.download(\"AAPL\", period=\"1mo\"))\n",
        "data.Close.mean()"
      ],
      "metadata": {
        "colab": {
          "base_uri": "https://localhost:8080/"
        },
        "id": "CZwSomYtcjPC",
        "outputId": "ba2b1747-58bd-4d2d-c998-48f00adf5e00"
      },
      "execution_count": null,
      "outputs": [
        {
          "output_type": "stream",
          "name": "stderr",
          "text": [
            "\r[*********************100%%**********************]  1 of 1 completed\n"
          ]
        },
        {
          "output_type": "execute_result",
          "data": {
            "text/plain": [
              "220.07091036709872"
            ]
          },
          "metadata": {},
          "execution_count": 121
        }
      ]
    },
    {
      "cell_type": "markdown",
      "source": [
        "\n",
        "\n",
        "```\n",
        "The mean of AAPL in 1 Month is 220.\n",
        "```\n",
        "\n"
      ],
      "metadata": {
        "id": "JaRN9KRgeDFH"
      }
    },
    {
      "cell_type": "code",
      "source": [
        "data = pd.DataFrame(yf.download(\"AAPL\", period=\"1mo\"))\n",
        "data.Close.mode()"
      ],
      "metadata": {
        "colab": {
          "base_uri": "https://localhost:8080/",
          "height": 791
        },
        "id": "yxyv9CtndMDR",
        "outputId": "8546c228-ba98-4080-d200-35551f095896"
      },
      "execution_count": null,
      "outputs": [
        {
          "output_type": "stream",
          "name": "stderr",
          "text": [
            "\r[*********************100%%**********************]  1 of 1 completed\n"
          ]
        },
        {
          "output_type": "execute_result",
          "data": {
            "text/plain": [
              "0     207.229996\n",
              "1     209.270004\n",
              "2     209.820007\n",
              "3     213.309998\n",
              "4     216.240005\n",
              "5     217.490005\n",
              "6     217.529999\n",
              "7     217.960007\n",
              "8     218.240005\n",
              "9     218.360001\n",
              "10    218.539993\n",
              "11    218.800003\n",
              "12    219.860001\n",
              "13    221.270004\n",
              "14    222.080002\n",
              "15    223.960007\n",
              "16    224.179993\n",
              "17    224.309998\n",
              "18    225.009995\n",
              "19    228.880005\n",
              "20    234.399994\n",
              "21    234.820007\n",
              "Name: Close, dtype: float64"
            ],
            "text/html": [
              "<div>\n",
              "<style scoped>\n",
              "    .dataframe tbody tr th:only-of-type {\n",
              "        vertical-align: middle;\n",
              "    }\n",
              "\n",
              "    .dataframe tbody tr th {\n",
              "        vertical-align: top;\n",
              "    }\n",
              "\n",
              "    .dataframe thead th {\n",
              "        text-align: right;\n",
              "    }\n",
              "</style>\n",
              "<table border=\"1\" class=\"dataframe\">\n",
              "  <thead>\n",
              "    <tr style=\"text-align: right;\">\n",
              "      <th></th>\n",
              "      <th>Close</th>\n",
              "    </tr>\n",
              "  </thead>\n",
              "  <tbody>\n",
              "    <tr>\n",
              "      <th>0</th>\n",
              "      <td>207.229996</td>\n",
              "    </tr>\n",
              "    <tr>\n",
              "      <th>1</th>\n",
              "      <td>209.270004</td>\n",
              "    </tr>\n",
              "    <tr>\n",
              "      <th>2</th>\n",
              "      <td>209.820007</td>\n",
              "    </tr>\n",
              "    <tr>\n",
              "      <th>3</th>\n",
              "      <td>213.309998</td>\n",
              "    </tr>\n",
              "    <tr>\n",
              "      <th>4</th>\n",
              "      <td>216.240005</td>\n",
              "    </tr>\n",
              "    <tr>\n",
              "      <th>5</th>\n",
              "      <td>217.490005</td>\n",
              "    </tr>\n",
              "    <tr>\n",
              "      <th>6</th>\n",
              "      <td>217.529999</td>\n",
              "    </tr>\n",
              "    <tr>\n",
              "      <th>7</th>\n",
              "      <td>217.960007</td>\n",
              "    </tr>\n",
              "    <tr>\n",
              "      <th>8</th>\n",
              "      <td>218.240005</td>\n",
              "    </tr>\n",
              "    <tr>\n",
              "      <th>9</th>\n",
              "      <td>218.360001</td>\n",
              "    </tr>\n",
              "    <tr>\n",
              "      <th>10</th>\n",
              "      <td>218.539993</td>\n",
              "    </tr>\n",
              "    <tr>\n",
              "      <th>11</th>\n",
              "      <td>218.800003</td>\n",
              "    </tr>\n",
              "    <tr>\n",
              "      <th>12</th>\n",
              "      <td>219.860001</td>\n",
              "    </tr>\n",
              "    <tr>\n",
              "      <th>13</th>\n",
              "      <td>221.270004</td>\n",
              "    </tr>\n",
              "    <tr>\n",
              "      <th>14</th>\n",
              "      <td>222.080002</td>\n",
              "    </tr>\n",
              "    <tr>\n",
              "      <th>15</th>\n",
              "      <td>223.960007</td>\n",
              "    </tr>\n",
              "    <tr>\n",
              "      <th>16</th>\n",
              "      <td>224.179993</td>\n",
              "    </tr>\n",
              "    <tr>\n",
              "      <th>17</th>\n",
              "      <td>224.309998</td>\n",
              "    </tr>\n",
              "    <tr>\n",
              "      <th>18</th>\n",
              "      <td>225.009995</td>\n",
              "    </tr>\n",
              "    <tr>\n",
              "      <th>19</th>\n",
              "      <td>228.880005</td>\n",
              "    </tr>\n",
              "    <tr>\n",
              "      <th>20</th>\n",
              "      <td>234.399994</td>\n",
              "    </tr>\n",
              "    <tr>\n",
              "      <th>21</th>\n",
              "      <td>234.820007</td>\n",
              "    </tr>\n",
              "  </tbody>\n",
              "</table>\n",
              "</div><br><label><b>dtype:</b> float64</label>"
            ]
          },
          "metadata": {},
          "execution_count": 130
        }
      ]
    },
    {
      "cell_type": "markdown",
      "source": [
        "\n",
        "\n",
        "```\n",
        "The mode of AAPL in 1 month is 218\n",
        "```\n",
        "\n"
      ],
      "metadata": {
        "id": "c6fBXmRTmkHF"
      }
    },
    {
      "cell_type": "markdown",
      "source": [
        "## **AAPL DATA IN 6 MONTHS**"
      ],
      "metadata": {
        "id": "CxjPmcuKeU9e"
      }
    },
    {
      "cell_type": "code",
      "source": [
        "data = pd.DataFrame(yf.download(\"AAPL\", period=\"6mo\"))\n",
        "data.Close.mean()"
      ],
      "metadata": {
        "colab": {
          "base_uri": "https://localhost:8080/"
        },
        "collapsed": true,
        "id": "oo9_WJIXUzPd",
        "outputId": "ec75392e-c43b-4a18-f5a6-0570e5abdbb5"
      },
      "execution_count": null,
      "outputs": [
        {
          "output_type": "stream",
          "name": "stderr",
          "text": [
            "\r[*********************100%%**********************]  1 of 1 completed\n"
          ]
        },
        {
          "output_type": "execute_result",
          "data": {
            "text/plain": [
              "192.6690400390625"
            ]
          },
          "metadata": {},
          "execution_count": 127
        }
      ]
    },
    {
      "cell_type": "markdown",
      "source": [
        "\n",
        "\n",
        "```\n",
        "The mean of AAPL in 6 Months is 192\n",
        "```\n",
        "\n"
      ],
      "metadata": {
        "id": "Fq-U5G1WfMtd"
      }
    },
    {
      "cell_type": "code",
      "source": [
        "data = pd.DataFrame(yf.download(\"AAPL\", period=\"6mo\"))\n",
        "data.Close.median()"
      ],
      "metadata": {
        "colab": {
          "base_uri": "https://localhost:8080/"
        },
        "id": "IDZQz1ordZgP",
        "outputId": "c832592b-9153-419e-9c8d-3721bef5bfd0"
      },
      "execution_count": null,
      "outputs": [
        {
          "output_type": "stream",
          "name": "stderr",
          "text": [
            "\r[*********************100%%**********************]  1 of 1 completed\n"
          ]
        },
        {
          "output_type": "execute_result",
          "data": {
            "text/plain": [
              "186.8800048828125"
            ]
          },
          "metadata": {},
          "execution_count": 128
        }
      ]
    },
    {
      "cell_type": "markdown",
      "source": [
        "\n",
        "\n",
        "```\n",
        "The median AAPL in 6 Months is 186.\n",
        "```\n",
        "\n"
      ],
      "metadata": {
        "id": "fj045vyMfZCr"
      }
    },
    {
      "cell_type": "code",
      "source": [
        "data = pd.DataFrame(yf.download(\"AAPL\", period=\"6mo\"))\n",
        "data.Close.mode()"
      ],
      "metadata": {
        "colab": {
          "base_uri": "https://localhost:8080/",
          "height": 133
        },
        "id": "emuyVNiOddi_",
        "outputId": "f0742ef0-e8de-4a7f-b9c1-8dd913abacff"
      },
      "execution_count": null,
      "outputs": [
        {
          "output_type": "stream",
          "name": "stderr",
          "text": [
            "\r[*********************100%%**********************]  1 of 1 completed\n"
          ]
        },
        {
          "output_type": "execute_result",
          "data": {
            "text/plain": [
              "0    169.300003\n",
              "Name: Close, dtype: float64"
            ],
            "text/html": [
              "<div>\n",
              "<style scoped>\n",
              "    .dataframe tbody tr th:only-of-type {\n",
              "        vertical-align: middle;\n",
              "    }\n",
              "\n",
              "    .dataframe tbody tr th {\n",
              "        vertical-align: top;\n",
              "    }\n",
              "\n",
              "    .dataframe thead th {\n",
              "        text-align: right;\n",
              "    }\n",
              "</style>\n",
              "<table border=\"1\" class=\"dataframe\">\n",
              "  <thead>\n",
              "    <tr style=\"text-align: right;\">\n",
              "      <th></th>\n",
              "      <th>Close</th>\n",
              "    </tr>\n",
              "  </thead>\n",
              "  <tbody>\n",
              "    <tr>\n",
              "      <th>0</th>\n",
              "      <td>169.300003</td>\n",
              "    </tr>\n",
              "  </tbody>\n",
              "</table>\n",
              "</div><br><label><b>dtype:</b> float64</label>"
            ]
          },
          "metadata": {},
          "execution_count": 129
        }
      ]
    },
    {
      "cell_type": "markdown",
      "source": [
        "\n",
        "\n",
        "```\n",
        "The mode of AAPL in 6 months is 169\n",
        "```\n",
        "\n"
      ],
      "metadata": {
        "id": "eugfjB9tfg9E"
      }
    },
    {
      "cell_type": "markdown",
      "source": [
        "## **AAPL DATA IN 2 YEARS**"
      ],
      "metadata": {
        "id": "GNIvzUBte4i2"
      }
    },
    {
      "cell_type": "code",
      "source": [
        "data = pd.DataFrame(yf.download(\"AAPL\", period=\"2y\"))\n",
        "data.Close.mean()"
      ],
      "metadata": {
        "colab": {
          "base_uri": "https://localhost:8080/"
        },
        "id": "dO1lUpHOVF15",
        "outputId": "4e75ed41-9430-4fa8-b5b5-26551910db9a"
      },
      "execution_count": null,
      "outputs": [
        {
          "output_type": "stream",
          "name": "stderr",
          "text": [
            "\r[*********************100%%**********************]  1 of 1 completed\n"
          ]
        },
        {
          "output_type": "execute_result",
          "data": {
            "text/plain": [
              "173.80067725010602"
            ]
          },
          "metadata": {},
          "execution_count": 139
        }
      ]
    },
    {
      "cell_type": "markdown",
      "source": [
        "\n",
        "\n",
        "```\n",
        "The mean of AAPL in 2 Years is 173.\n",
        "```\n",
        "\n"
      ],
      "metadata": {
        "id": "1bsrDG4a627O"
      }
    },
    {
      "cell_type": "code",
      "source": [
        "data = pd.DataFrame(yf.download(\"AAPL\", period=\"2y\"))\n",
        "data.Close.median()"
      ],
      "metadata": {
        "colab": {
          "base_uri": "https://localhost:8080/"
        },
        "id": "e96TSsqqf7Bw",
        "outputId": "dc95806c-feae-40c1-a97c-6e1791b22096"
      },
      "execution_count": null,
      "outputs": [
        {
          "output_type": "stream",
          "name": "stderr",
          "text": [
            "\r[*********************100%%**********************]  1 of 1 completed\n"
          ]
        },
        {
          "output_type": "execute_result",
          "data": {
            "text/plain": [
              "174.35000610351562"
            ]
          },
          "metadata": {},
          "execution_count": 134
        }
      ]
    },
    {
      "cell_type": "markdown",
      "source": [
        "\n",
        "\n",
        "```\n",
        "The median of APPL in 2 years is 174.\n",
        "```\n",
        "\n"
      ],
      "metadata": {
        "id": "fr5Zi1z66-32"
      }
    },
    {
      "cell_type": "code",
      "source": [
        "data = pd.DataFrame(yf.download(\"AAPL\", period=\"2y\"))\n",
        "data.Close.mode()"
      ],
      "metadata": {
        "colab": {
          "base_uri": "https://localhost:8080/",
          "height": 635
        },
        "id": "kHjP7gksgq8F",
        "outputId": "89ecc6a5-68ed-4975-a10a-38ba4d2f38d2"
      },
      "execution_count": null,
      "outputs": [
        {
          "output_type": "stream",
          "name": "stderr",
          "text": [
            "\r[*********************100%%**********************]  1 of 1 completed\n"
          ]
        },
        {
          "output_type": "execute_result",
          "data": {
            "text/plain": [
              "0     138.380005\n",
              "1     145.429993\n",
              "2     163.759995\n",
              "3     169.300003\n",
              "4     170.029999\n",
              "5     172.070007\n",
              "6     172.690002\n",
              "7     173.000000\n",
              "8     173.029999\n",
              "9     173.500000\n",
              "10    173.750000\n",
              "11    175.839996\n",
              "12    176.080002\n",
              "13    177.970001\n",
              "14    178.850006\n",
              "15    179.800003\n",
              "16    194.500000\n",
              "Name: Close, dtype: float64"
            ],
            "text/html": [
              "<div>\n",
              "<style scoped>\n",
              "    .dataframe tbody tr th:only-of-type {\n",
              "        vertical-align: middle;\n",
              "    }\n",
              "\n",
              "    .dataframe tbody tr th {\n",
              "        vertical-align: top;\n",
              "    }\n",
              "\n",
              "    .dataframe thead th {\n",
              "        text-align: right;\n",
              "    }\n",
              "</style>\n",
              "<table border=\"1\" class=\"dataframe\">\n",
              "  <thead>\n",
              "    <tr style=\"text-align: right;\">\n",
              "      <th></th>\n",
              "      <th>Close</th>\n",
              "    </tr>\n",
              "  </thead>\n",
              "  <tbody>\n",
              "    <tr>\n",
              "      <th>0</th>\n",
              "      <td>138.380005</td>\n",
              "    </tr>\n",
              "    <tr>\n",
              "      <th>1</th>\n",
              "      <td>145.429993</td>\n",
              "    </tr>\n",
              "    <tr>\n",
              "      <th>2</th>\n",
              "      <td>163.759995</td>\n",
              "    </tr>\n",
              "    <tr>\n",
              "      <th>3</th>\n",
              "      <td>169.300003</td>\n",
              "    </tr>\n",
              "    <tr>\n",
              "      <th>4</th>\n",
              "      <td>170.029999</td>\n",
              "    </tr>\n",
              "    <tr>\n",
              "      <th>5</th>\n",
              "      <td>172.070007</td>\n",
              "    </tr>\n",
              "    <tr>\n",
              "      <th>6</th>\n",
              "      <td>172.690002</td>\n",
              "    </tr>\n",
              "    <tr>\n",
              "      <th>7</th>\n",
              "      <td>173.000000</td>\n",
              "    </tr>\n",
              "    <tr>\n",
              "      <th>8</th>\n",
              "      <td>173.029999</td>\n",
              "    </tr>\n",
              "    <tr>\n",
              "      <th>9</th>\n",
              "      <td>173.500000</td>\n",
              "    </tr>\n",
              "    <tr>\n",
              "      <th>10</th>\n",
              "      <td>173.750000</td>\n",
              "    </tr>\n",
              "    <tr>\n",
              "      <th>11</th>\n",
              "      <td>175.839996</td>\n",
              "    </tr>\n",
              "    <tr>\n",
              "      <th>12</th>\n",
              "      <td>176.080002</td>\n",
              "    </tr>\n",
              "    <tr>\n",
              "      <th>13</th>\n",
              "      <td>177.970001</td>\n",
              "    </tr>\n",
              "    <tr>\n",
              "      <th>14</th>\n",
              "      <td>178.850006</td>\n",
              "    </tr>\n",
              "    <tr>\n",
              "      <th>15</th>\n",
              "      <td>179.800003</td>\n",
              "    </tr>\n",
              "    <tr>\n",
              "      <th>16</th>\n",
              "      <td>194.500000</td>\n",
              "    </tr>\n",
              "  </tbody>\n",
              "</table>\n",
              "</div><br><label><b>dtype:</b> float64</label>"
            ]
          },
          "metadata": {},
          "execution_count": 137
        }
      ]
    },
    {
      "cell_type": "markdown",
      "source": [
        "\n",
        "\n",
        "```\n",
        "The mode for AAPL in 2 years is 173.\n",
        "```\n",
        "\n"
      ],
      "metadata": {
        "id": "kbQxUSYVm5Al"
      }
    },
    {
      "cell_type": "markdown",
      "source": [
        "## **AAPL DATA IN 5 YEARS**"
      ],
      "metadata": {
        "id": "RCeEgjEgfzvQ"
      }
    },
    {
      "cell_type": "code",
      "source": [
        "data = pd.DataFrame(yf.download(\"AAPL\", period=\"5y\"))\n",
        "data.Close.median()"
      ],
      "metadata": {
        "colab": {
          "base_uri": "https://localhost:8080/"
        },
        "id": "1MVeWxi6VTKj",
        "outputId": "7bb68019-2372-49b7-ba99-d60198bade77"
      },
      "execution_count": null,
      "outputs": [
        {
          "output_type": "stream",
          "name": "stderr",
          "text": [
            "\r[*********************100%%**********************]  1 of 1 completed\n"
          ]
        },
        {
          "output_type": "execute_result",
          "data": {
            "text/plain": [
              "147.31500244140625"
            ]
          },
          "metadata": {},
          "execution_count": 132
        }
      ]
    },
    {
      "cell_type": "markdown",
      "source": [
        "\n",
        "\n",
        "```\n",
        "The median of APPL in 5 years is 147.\n",
        "```\n",
        "\n"
      ],
      "metadata": {
        "id": "wQxQc7O4DcIZ"
      }
    },
    {
      "cell_type": "code",
      "source": [
        "data = pd.DataFrame(yf.download(\"AAPL\", period=\"5y\"))\n",
        "data.Close.mean()"
      ],
      "metadata": {
        "colab": {
          "base_uri": "https://localhost:8080/"
        },
        "id": "jI5hhUMlft-t",
        "outputId": "f7fac8a9-d21b-4adc-e80f-e751da69ae64"
      },
      "execution_count": null,
      "outputs": [
        {
          "output_type": "stream",
          "name": "stderr",
          "text": [
            "\r[*********************100%%**********************]  1 of 1 completed\n"
          ]
        },
        {
          "output_type": "execute_result",
          "data": {
            "text/plain": [
              "140.89654808468964"
            ]
          },
          "metadata": {},
          "execution_count": 133
        }
      ]
    },
    {
      "cell_type": "markdown",
      "source": [
        "\n",
        "\n",
        "```\n",
        "The mean of AAPL in 5 years is 140.\n",
        "```\n",
        "\n"
      ],
      "metadata": {
        "id": "uAsHkWhlDjJE"
      }
    },
    {
      "cell_type": "code",
      "source": [
        "data = pd.DataFrame(yf.download(\"AAPL\", period=\"5y\"))\n",
        "data.Close.mode()"
      ],
      "metadata": {
        "id": "Fd9TGK84g9I9",
        "outputId": "970b8ee5-2af7-4225-ed9f-d63f09e75be5",
        "colab": {
          "base_uri": "https://localhost:8080/",
          "height": 196
        }
      },
      "execution_count": null,
      "outputs": [
        {
          "output_type": "stream",
          "name": "stderr",
          "text": [
            "\r[*********************100%%**********************]  1 of 1 completed\n"
          ]
        },
        {
          "output_type": "execute_result",
          "data": {
            "text/plain": [
              "0    145.860001\n",
              "1    163.759995\n",
              "2    175.839996\n",
              "Name: Close, dtype: float64"
            ],
            "text/html": [
              "<div>\n",
              "<style scoped>\n",
              "    .dataframe tbody tr th:only-of-type {\n",
              "        vertical-align: middle;\n",
              "    }\n",
              "\n",
              "    .dataframe tbody tr th {\n",
              "        vertical-align: top;\n",
              "    }\n",
              "\n",
              "    .dataframe thead th {\n",
              "        text-align: right;\n",
              "    }\n",
              "</style>\n",
              "<table border=\"1\" class=\"dataframe\">\n",
              "  <thead>\n",
              "    <tr style=\"text-align: right;\">\n",
              "      <th></th>\n",
              "      <th>Close</th>\n",
              "    </tr>\n",
              "  </thead>\n",
              "  <tbody>\n",
              "    <tr>\n",
              "      <th>0</th>\n",
              "      <td>145.860001</td>\n",
              "    </tr>\n",
              "    <tr>\n",
              "      <th>1</th>\n",
              "      <td>163.759995</td>\n",
              "    </tr>\n",
              "    <tr>\n",
              "      <th>2</th>\n",
              "      <td>175.839996</td>\n",
              "    </tr>\n",
              "  </tbody>\n",
              "</table>\n",
              "</div><br><label><b>dtype:</b> float64</label>"
            ]
          },
          "metadata": {},
          "execution_count": 140
        }
      ]
    },
    {
      "cell_type": "markdown",
      "source": [
        "\n",
        "\n",
        "```\n",
        "AAPL DOESNT HAVE A MODE IN YEAR 5\n",
        "```\n",
        "\n"
      ],
      "metadata": {
        "id": "WHkD7ZGbnDcX"
      }
    },
    {
      "cell_type": "markdown",
      "source": [
        "## **NIKE** **STOCK** **INFORMATION**"
      ],
      "metadata": {
        "id": "QjygzXVVVZ6N"
      }
    },
    {
      "cell_type": "code",
      "execution_count": null,
      "metadata": {
        "collapsed": true,
        "id": "PU1u4axOO-Cc"
      },
      "outputs": [],
      "source": [
        "import pandas as pd\n",
        "nke = yf.Ticker(\"NKE\")"
      ]
    },
    {
      "cell_type": "markdown",
      "source": [
        "## **NKE DATA IN 1 MONTH**"
      ],
      "metadata": {
        "id": "x14K8nf8EC7I"
      }
    },
    {
      "cell_type": "code",
      "source": [
        "data = yf.download(\"NKE\", period=\"1mo\")\n",
        "data.Close.mean()"
      ],
      "metadata": {
        "collapsed": true,
        "colab": {
          "base_uri": "https://localhost:8080/"
        },
        "id": "3TODXs7nUjSo",
        "outputId": "0123b1d3-046d-4489-8955-02038e5adcb9"
      },
      "execution_count": null,
      "outputs": [
        {
          "output_type": "stream",
          "name": "stderr",
          "text": [
            "\r[*********************100%%**********************]  1 of 1 completed\n"
          ]
        },
        {
          "output_type": "execute_result",
          "data": {
            "text/plain": [
              "73.61673869257388"
            ]
          },
          "metadata": {},
          "execution_count": 15
        }
      ]
    },
    {
      "cell_type": "markdown",
      "source": [
        "\n",
        "\n",
        "```\n",
        "The mean of NKE in 1 month is 73.\n",
        "```\n",
        "\n"
      ],
      "metadata": {
        "id": "fvX1e-HlDuDd"
      }
    },
    {
      "cell_type": "code",
      "source": [
        "data = yf.download(\"NKE\", period=\"1mo\")\n",
        "data.Close.median()"
      ],
      "metadata": {
        "colab": {
          "base_uri": "https://localhost:8080/"
        },
        "id": "QvZmddENDy_6",
        "outputId": "5694dd59-6bf0-4e02-c94c-2d0abf88a3e8"
      },
      "execution_count": null,
      "outputs": [
        {
          "output_type": "stream",
          "name": "stderr",
          "text": [
            "\r[*********************100%%**********************]  1 of 1 completed\n"
          ]
        },
        {
          "output_type": "execute_result",
          "data": {
            "text/plain": [
              "73.4000015258789"
            ]
          },
          "metadata": {},
          "execution_count": 16
        }
      ]
    },
    {
      "cell_type": "markdown",
      "source": [
        "\n",
        "\n",
        "```\n",
        "The median of NKE in 1 month is 73.\n",
        "```\n",
        "\n"
      ],
      "metadata": {
        "id": "TDGrUVlpD34l"
      }
    },
    {
      "cell_type": "code",
      "source": [
        "data = yf.download(\"NKE\", period=\"1mo\")\n",
        "data.Close.mode()"
      ],
      "metadata": {
        "colab": {
          "base_uri": "https://localhost:8080/",
          "height": 133
        },
        "id": "sP7HJnn3EPzj",
        "outputId": "f33120c3-14e2-43ca-d59d-a062847dff49"
      },
      "execution_count": null,
      "outputs": [
        {
          "output_type": "stream",
          "name": "stderr",
          "text": [
            "\r[*********************100%%**********************]  1 of 1 completed\n"
          ]
        },
        {
          "output_type": "execute_result",
          "data": {
            "text/plain": [
              "0    74.860001\n",
              "Name: Close, dtype: float64"
            ],
            "text/html": [
              "<div>\n",
              "<style scoped>\n",
              "    .dataframe tbody tr th:only-of-type {\n",
              "        vertical-align: middle;\n",
              "    }\n",
              "\n",
              "    .dataframe tbody tr th {\n",
              "        vertical-align: top;\n",
              "    }\n",
              "\n",
              "    .dataframe thead th {\n",
              "        text-align: right;\n",
              "    }\n",
              "</style>\n",
              "<table border=\"1\" class=\"dataframe\">\n",
              "  <thead>\n",
              "    <tr style=\"text-align: right;\">\n",
              "      <th></th>\n",
              "      <th>Close</th>\n",
              "    </tr>\n",
              "  </thead>\n",
              "  <tbody>\n",
              "    <tr>\n",
              "      <th>0</th>\n",
              "      <td>74.860001</td>\n",
              "    </tr>\n",
              "  </tbody>\n",
              "</table>\n",
              "</div><br><label><b>dtype:</b> float64</label>"
            ]
          },
          "metadata": {},
          "execution_count": 17
        }
      ]
    },
    {
      "cell_type": "markdown",
      "source": [
        "\n",
        "\n",
        "```\n",
        "The mode for NKE in 1 month is 74.\n",
        "```\n",
        "\n"
      ],
      "metadata": {
        "id": "z_aIQ63gnJPb"
      }
    },
    {
      "cell_type": "markdown",
      "source": [
        "## **NKE DATA IN 6 MONTHS**"
      ],
      "metadata": {
        "id": "CgeiJLQ5ETlA"
      }
    },
    {
      "cell_type": "code",
      "source": [
        "data = yf.download(\"NKE\", period=\"6mo\")\n",
        "data.Close.mean()"
      ],
      "metadata": {
        "colab": {
          "base_uri": "https://localhost:8080/"
        },
        "id": "a5jdPdB_EXTw",
        "outputId": "1bc9ebfb-cc47-4a66-c018-598c0eaeab3a"
      },
      "execution_count": null,
      "outputs": [
        {
          "output_type": "stream",
          "name": "stderr",
          "text": [
            "\r[*********************100%%**********************]  1 of 1 completed\n"
          ]
        },
        {
          "output_type": "execute_result",
          "data": {
            "text/plain": [
              "89.96015863569956"
            ]
          },
          "metadata": {},
          "execution_count": 18
        }
      ]
    },
    {
      "cell_type": "markdown",
      "source": [
        "\n",
        "\n",
        "```\n",
        "The mean of NKE in 6 Months is 89.\n",
        "```\n",
        "\n"
      ],
      "metadata": {
        "id": "AkABqFIPEbjt"
      }
    },
    {
      "cell_type": "code",
      "source": [
        "data = yf.download(\"NKE\", period=\"6mo\")\n",
        "data.Close.median()"
      ],
      "metadata": {
        "colab": {
          "base_uri": "https://localhost:8080/"
        },
        "id": "YD6GHAPlE86I",
        "outputId": "51c257da-7566-4520-bc90-290f1c5c4b9e"
      },
      "execution_count": null,
      "outputs": [
        {
          "output_type": "stream",
          "name": "stderr",
          "text": [
            "\r[*********************100%%**********************]  1 of 1 completed\n"
          ]
        },
        {
          "output_type": "execute_result",
          "data": {
            "text/plain": [
              "93.375"
            ]
          },
          "metadata": {},
          "execution_count": 19
        }
      ]
    },
    {
      "cell_type": "markdown",
      "source": [
        "\n",
        "\n",
        "```\n",
        "The median of NKE in 6 months is 93.\n",
        "```\n",
        "\n"
      ],
      "metadata": {
        "id": "iGgJzrV6FAnH"
      }
    },
    {
      "cell_type": "code",
      "source": [
        "data = yf.download(\"NKE\", period=\"6mo\")\n",
        "data.Close.mode()"
      ],
      "metadata": {
        "colab": {
          "base_uri": "https://localhost:8080/",
          "height": 164
        },
        "id": "ab51KyQJFI9I",
        "outputId": "f70966d0-b594-4b23-95d3-f5a3bc7c3aeb"
      },
      "execution_count": null,
      "outputs": [
        {
          "output_type": "stream",
          "name": "stderr",
          "text": [
            "\r[*********************100%%**********************]  1 of 1 completed\n"
          ]
        },
        {
          "output_type": "execute_result",
          "data": {
            "text/plain": [
              "0    92.000000\n",
              "1    93.389999\n",
              "Name: Close, dtype: float64"
            ],
            "text/html": [
              "<div>\n",
              "<style scoped>\n",
              "    .dataframe tbody tr th:only-of-type {\n",
              "        vertical-align: middle;\n",
              "    }\n",
              "\n",
              "    .dataframe tbody tr th {\n",
              "        vertical-align: top;\n",
              "    }\n",
              "\n",
              "    .dataframe thead th {\n",
              "        text-align: right;\n",
              "    }\n",
              "</style>\n",
              "<table border=\"1\" class=\"dataframe\">\n",
              "  <thead>\n",
              "    <tr style=\"text-align: right;\">\n",
              "      <th></th>\n",
              "      <th>Close</th>\n",
              "    </tr>\n",
              "  </thead>\n",
              "  <tbody>\n",
              "    <tr>\n",
              "      <th>0</th>\n",
              "      <td>92.000000</td>\n",
              "    </tr>\n",
              "    <tr>\n",
              "      <th>1</th>\n",
              "      <td>93.389999</td>\n",
              "    </tr>\n",
              "  </tbody>\n",
              "</table>\n",
              "</div><br><label><b>dtype:</b> float64</label>"
            ]
          },
          "metadata": {},
          "execution_count": 20
        }
      ]
    },
    {
      "cell_type": "markdown",
      "source": [
        "\n",
        "\n",
        "```\n",
        "The mode for NKE in 6 months is 92.\n",
        "```\n",
        "\n"
      ],
      "metadata": {
        "id": "objjECCtnPUQ"
      }
    },
    {
      "cell_type": "markdown",
      "source": [
        "## **NKE DATA IN 2 YEARS**"
      ],
      "metadata": {
        "id": "yrbOjTNrFPER"
      }
    },
    {
      "cell_type": "code",
      "source": [
        "data = yf.download(\"NKE\", period=\"2y\")\n",
        "data.Close.mean()"
      ],
      "metadata": {
        "colab": {
          "base_uri": "https://localhost:8080/"
        },
        "id": "_qtJmjFVFwrj",
        "outputId": "599e2054-0990-4ac7-d615-f08610ab8137"
      },
      "execution_count": null,
      "outputs": [
        {
          "output_type": "stream",
          "name": "stderr",
          "text": [
            "\r[*********************100%%**********************]  1 of 1 completed\n"
          ]
        },
        {
          "output_type": "execute_result",
          "data": {
            "text/plain": [
              "104.3733697364155"
            ]
          },
          "metadata": {},
          "execution_count": 21
        }
      ]
    },
    {
      "cell_type": "markdown",
      "source": [
        "\n",
        "\n",
        "```\n",
        "The mean of NKE in 2 years is 104.\n",
        "```\n",
        "\n"
      ],
      "metadata": {
        "id": "pwKiaP8WF1tX"
      }
    },
    {
      "cell_type": "code",
      "source": [
        "data = yf.download(\"NKE\", period=\"2y\")\n",
        "data.Close.mode()"
      ],
      "metadata": {
        "colab": {
          "base_uri": "https://localhost:8080/",
          "height": 258
        },
        "id": "SBvzAbXnGbaC",
        "outputId": "93b488bf-232c-4e71-902e-53e168475927"
      },
      "execution_count": null,
      "outputs": [
        {
          "output_type": "stream",
          "name": "stderr",
          "text": [
            "\r[*********************100%%**********************]  1 of 1 completed\n"
          ]
        },
        {
          "output_type": "execute_result",
          "data": {
            "text/plain": [
              "0     92.000000\n",
              "1     93.389999\n",
              "2    103.769997\n",
              "3    106.550003\n",
              "4    109.690002\n",
              "Name: Close, dtype: float64"
            ],
            "text/html": [
              "<div>\n",
              "<style scoped>\n",
              "    .dataframe tbody tr th:only-of-type {\n",
              "        vertical-align: middle;\n",
              "    }\n",
              "\n",
              "    .dataframe tbody tr th {\n",
              "        vertical-align: top;\n",
              "    }\n",
              "\n",
              "    .dataframe thead th {\n",
              "        text-align: right;\n",
              "    }\n",
              "</style>\n",
              "<table border=\"1\" class=\"dataframe\">\n",
              "  <thead>\n",
              "    <tr style=\"text-align: right;\">\n",
              "      <th></th>\n",
              "      <th>Close</th>\n",
              "    </tr>\n",
              "  </thead>\n",
              "  <tbody>\n",
              "    <tr>\n",
              "      <th>0</th>\n",
              "      <td>92.000000</td>\n",
              "    </tr>\n",
              "    <tr>\n",
              "      <th>1</th>\n",
              "      <td>93.389999</td>\n",
              "    </tr>\n",
              "    <tr>\n",
              "      <th>2</th>\n",
              "      <td>103.769997</td>\n",
              "    </tr>\n",
              "    <tr>\n",
              "      <th>3</th>\n",
              "      <td>106.550003</td>\n",
              "    </tr>\n",
              "    <tr>\n",
              "      <th>4</th>\n",
              "      <td>109.690002</td>\n",
              "    </tr>\n",
              "  </tbody>\n",
              "</table>\n",
              "</div><br><label><b>dtype:</b> float64</label>"
            ]
          },
          "metadata": {},
          "execution_count": 22
        }
      ]
    },
    {
      "cell_type": "markdown",
      "source": [
        "\n",
        "\n",
        "```\n",
        "The mode of NKE in 2 years is 92\n",
        "```\n",
        "\n"
      ],
      "metadata": {
        "id": "qjGHkJ4qnZNI"
      }
    },
    {
      "cell_type": "code",
      "source": [
        "data = yf.download(\"NKE\", period=\"2y\")\n",
        "data.Close.median()"
      ],
      "metadata": {
        "colab": {
          "base_uri": "https://localhost:8080/"
        },
        "id": "f5ZFvG3CGfjj",
        "outputId": "2da7388d-777b-4b47-902b-0c827b6950ab"
      },
      "execution_count": null,
      "outputs": [
        {
          "output_type": "stream",
          "name": "stderr",
          "text": [
            "\r[*********************100%%**********************]  1 of 1 completed\n"
          ]
        },
        {
          "output_type": "execute_result",
          "data": {
            "text/plain": [
              "105.1500015258789"
            ]
          },
          "metadata": {},
          "execution_count": 29
        }
      ]
    },
    {
      "cell_type": "markdown",
      "source": [
        "\n",
        "\n",
        "```\n",
        "The median of NKE in 2 years is 105.\n",
        "```\n",
        "\n"
      ],
      "metadata": {
        "id": "XIkV_uQWGwbX"
      }
    },
    {
      "cell_type": "markdown",
      "source": [
        "## **NKE DATA IN 5 YEARS**"
      ],
      "metadata": {
        "id": "uqBSDGXgH1Ds"
      }
    },
    {
      "cell_type": "code",
      "source": [
        "data = yf.download(\"NKE\", period=\"5y\")\n",
        "data.Close.median()"
      ],
      "metadata": {
        "colab": {
          "base_uri": "https://localhost:8080/"
        },
        "id": "nVAWk1UgH6Wg",
        "outputId": "3a9dd8e6-02a6-4e8f-e998-36c6a892c8da"
      },
      "execution_count": null,
      "outputs": [
        {
          "output_type": "stream",
          "name": "stderr",
          "text": [
            "\r[*********************100%%**********************]  1 of 1 completed\n"
          ]
        },
        {
          "output_type": "execute_result",
          "data": {
            "text/plain": [
              "109.30000305175781"
            ]
          },
          "metadata": {},
          "execution_count": 30
        }
      ]
    },
    {
      "cell_type": "markdown",
      "source": [
        "\n",
        "\n",
        "```\n",
        "The median of NKE in 5 years is 109.\n",
        "```\n",
        "\n"
      ],
      "metadata": {
        "id": "Ht6J35wdIHmh"
      }
    },
    {
      "cell_type": "code",
      "source": [
        "data = yf.download(\"NKE\", period=\"5y\")\n",
        "data.Close.mean()"
      ],
      "metadata": {
        "colab": {
          "base_uri": "https://localhost:8080/"
        },
        "id": "VaiBkGiQH-Kq",
        "outputId": "c7ef78a7-e491-48cf-813e-e49c7887c5af"
      },
      "execution_count": null,
      "outputs": [
        {
          "output_type": "stream",
          "name": "stderr",
          "text": [
            "\r[*********************100%%**********************]  1 of 1 completed\n"
          ]
        },
        {
          "output_type": "execute_result",
          "data": {
            "text/plain": [
              "115.62555694883072"
            ]
          },
          "metadata": {},
          "execution_count": 31
        }
      ]
    },
    {
      "cell_type": "markdown",
      "source": [
        "\n",
        "\n",
        "```\n",
        "The mean of NKE in 5 years is 115.\n",
        "```\n",
        "\n"
      ],
      "metadata": {
        "id": "0zzVBWDDIM19"
      }
    },
    {
      "cell_type": "code",
      "source": [
        "data = yf.download(\"NKE\", period=\"5y\")\n",
        "data.Close.mode()"
      ],
      "metadata": {
        "colab": {
          "base_uri": "https://localhost:8080/",
          "height": 133
        },
        "id": "ty-DXwpYICs0",
        "outputId": "8d0a6be6-cba6-4e28-da2c-d59c457c8796"
      },
      "execution_count": null,
      "outputs": [
        {
          "output_type": "stream",
          "name": "stderr",
          "text": [
            "\r[*********************100%%**********************]  1 of 1 completed\n"
          ]
        },
        {
          "output_type": "execute_result",
          "data": {
            "text/plain": [
              "0    92.0\n",
              "Name: Close, dtype: float64"
            ],
            "text/html": [
              "<div>\n",
              "<style scoped>\n",
              "    .dataframe tbody tr th:only-of-type {\n",
              "        vertical-align: middle;\n",
              "    }\n",
              "\n",
              "    .dataframe tbody tr th {\n",
              "        vertical-align: top;\n",
              "    }\n",
              "\n",
              "    .dataframe thead th {\n",
              "        text-align: right;\n",
              "    }\n",
              "</style>\n",
              "<table border=\"1\" class=\"dataframe\">\n",
              "  <thead>\n",
              "    <tr style=\"text-align: right;\">\n",
              "      <th></th>\n",
              "      <th>Close</th>\n",
              "    </tr>\n",
              "  </thead>\n",
              "  <tbody>\n",
              "    <tr>\n",
              "      <th>0</th>\n",
              "      <td>92.0</td>\n",
              "    </tr>\n",
              "  </tbody>\n",
              "</table>\n",
              "</div><br><label><b>dtype:</b> float64</label>"
            ]
          },
          "metadata": {},
          "execution_count": 32
        }
      ]
    },
    {
      "cell_type": "markdown",
      "source": [
        "\n",
        "\n",
        "```\n",
        "The mode for NKE for 5 years is 92.\n",
        "```\n",
        "\n"
      ],
      "metadata": {
        "id": "BCIEFUhYnebx"
      }
    },
    {
      "cell_type": "markdown",
      "source": [
        "## **SBUX STOCK INFORMATION**"
      ],
      "metadata": {
        "id": "ePwgtY4VISIf"
      }
    },
    {
      "cell_type": "code",
      "execution_count": null,
      "metadata": {
        "collapsed": true,
        "id": "cCpUS49VPakx"
      },
      "outputs": [],
      "source": [
        "import pandas as pd\n",
        "sbux = yf.Ticker(\"SBUX\")"
      ]
    },
    {
      "cell_type": "markdown",
      "source": [
        "## **SBUX DATA IN 1 MONTH**"
      ],
      "metadata": {
        "id": "kQ-cDMYwJHqQ"
      }
    },
    {
      "cell_type": "code",
      "source": [
        "data = yf.download(\"SBUX\", period=\"1mo\")\n",
        "data.Close.mean()"
      ],
      "metadata": {
        "collapsed": true,
        "colab": {
          "base_uri": "https://localhost:8080/"
        },
        "id": "_Emh1bBbUpRO",
        "outputId": "08894e2b-90c6-4f52-c6f4-5b901f43f279"
      },
      "execution_count": null,
      "outputs": [
        {
          "output_type": "stream",
          "name": "stderr",
          "text": [
            "\r[*********************100%%**********************]  1 of 1 completed\n"
          ]
        },
        {
          "output_type": "execute_result",
          "data": {
            "text/plain": [
              "77.19021739130434"
            ]
          },
          "metadata": {},
          "execution_count": 41
        }
      ]
    },
    {
      "cell_type": "markdown",
      "source": [
        "\n",
        "\n",
        "```\n",
        "The mean of SBUX in 1 month is 77.\n",
        "```\n",
        "\n"
      ],
      "metadata": {
        "id": "crlPbHiUUJ4H"
      }
    },
    {
      "cell_type": "code",
      "source": [
        "data = yf.download(\"SBUX\", period=\"1mo\")\n",
        "data.Close.median()"
      ],
      "metadata": {
        "colab": {
          "base_uri": "https://localhost:8080/"
        },
        "id": "l6v3pIRtIyxt",
        "outputId": "915538e3-a026-4b5f-fa5b-ec3bd804271b"
      },
      "execution_count": null,
      "outputs": [
        {
          "output_type": "stream",
          "name": "stderr",
          "text": [
            "\r[*********************100%%**********************]  1 of 1 completed\n"
          ]
        },
        {
          "output_type": "execute_result",
          "data": {
            "text/plain": [
              "75.37000274658203"
            ]
          },
          "metadata": {},
          "execution_count": 36
        }
      ]
    },
    {
      "cell_type": "markdown",
      "source": [
        "\n",
        "\n",
        "```\n",
        "The median of SBUX in 1 month is 75.\n",
        "```\n",
        "\n"
      ],
      "metadata": {
        "id": "n_DdgfrDUPdh"
      }
    },
    {
      "cell_type": "code",
      "source": [
        "data = yf.download(\"SBUX\", period=\"1mo\")\n",
        "data.Close.mode()"
      ],
      "metadata": {
        "colab": {
          "base_uri": "https://localhost:8080/",
          "height": 823
        },
        "id": "z376GTyNIzcd",
        "outputId": "d57dee91-7bd1-4866-9495-64d1228ef35e"
      },
      "execution_count": null,
      "outputs": [
        {
          "output_type": "stream",
          "name": "stderr",
          "text": [
            "\r[*********************100%%**********************]  1 of 1 completed\n"
          ]
        },
        {
          "output_type": "execute_result",
          "data": {
            "text/plain": [
              "0     72.750000\n",
              "1     73.320000\n",
              "2     73.860001\n",
              "3     74.050003\n",
              "4     74.190002\n",
              "5     74.680000\n",
              "6     75.089996\n",
              "7     75.099998\n",
              "8     75.110001\n",
              "9     75.199997\n",
              "10    75.290001\n",
              "11    75.370003\n",
              "12    75.510002\n",
              "13    75.750000\n",
              "14    75.879997\n",
              "15    75.940002\n",
              "16    76.260002\n",
              "17    76.550003\n",
              "18    77.029999\n",
              "19    77.949997\n",
              "20    79.269997\n",
              "21    94.230003\n",
              "22    95.900002\n",
              "Name: Close, dtype: float64"
            ],
            "text/html": [
              "<div>\n",
              "<style scoped>\n",
              "    .dataframe tbody tr th:only-of-type {\n",
              "        vertical-align: middle;\n",
              "    }\n",
              "\n",
              "    .dataframe tbody tr th {\n",
              "        vertical-align: top;\n",
              "    }\n",
              "\n",
              "    .dataframe thead th {\n",
              "        text-align: right;\n",
              "    }\n",
              "</style>\n",
              "<table border=\"1\" class=\"dataframe\">\n",
              "  <thead>\n",
              "    <tr style=\"text-align: right;\">\n",
              "      <th></th>\n",
              "      <th>Close</th>\n",
              "    </tr>\n",
              "  </thead>\n",
              "  <tbody>\n",
              "    <tr>\n",
              "      <th>0</th>\n",
              "      <td>72.750000</td>\n",
              "    </tr>\n",
              "    <tr>\n",
              "      <th>1</th>\n",
              "      <td>73.320000</td>\n",
              "    </tr>\n",
              "    <tr>\n",
              "      <th>2</th>\n",
              "      <td>73.860001</td>\n",
              "    </tr>\n",
              "    <tr>\n",
              "      <th>3</th>\n",
              "      <td>74.050003</td>\n",
              "    </tr>\n",
              "    <tr>\n",
              "      <th>4</th>\n",
              "      <td>74.190002</td>\n",
              "    </tr>\n",
              "    <tr>\n",
              "      <th>5</th>\n",
              "      <td>74.680000</td>\n",
              "    </tr>\n",
              "    <tr>\n",
              "      <th>6</th>\n",
              "      <td>75.089996</td>\n",
              "    </tr>\n",
              "    <tr>\n",
              "      <th>7</th>\n",
              "      <td>75.099998</td>\n",
              "    </tr>\n",
              "    <tr>\n",
              "      <th>8</th>\n",
              "      <td>75.110001</td>\n",
              "    </tr>\n",
              "    <tr>\n",
              "      <th>9</th>\n",
              "      <td>75.199997</td>\n",
              "    </tr>\n",
              "    <tr>\n",
              "      <th>10</th>\n",
              "      <td>75.290001</td>\n",
              "    </tr>\n",
              "    <tr>\n",
              "      <th>11</th>\n",
              "      <td>75.370003</td>\n",
              "    </tr>\n",
              "    <tr>\n",
              "      <th>12</th>\n",
              "      <td>75.510002</td>\n",
              "    </tr>\n",
              "    <tr>\n",
              "      <th>13</th>\n",
              "      <td>75.750000</td>\n",
              "    </tr>\n",
              "    <tr>\n",
              "      <th>14</th>\n",
              "      <td>75.879997</td>\n",
              "    </tr>\n",
              "    <tr>\n",
              "      <th>15</th>\n",
              "      <td>75.940002</td>\n",
              "    </tr>\n",
              "    <tr>\n",
              "      <th>16</th>\n",
              "      <td>76.260002</td>\n",
              "    </tr>\n",
              "    <tr>\n",
              "      <th>17</th>\n",
              "      <td>76.550003</td>\n",
              "    </tr>\n",
              "    <tr>\n",
              "      <th>18</th>\n",
              "      <td>77.029999</td>\n",
              "    </tr>\n",
              "    <tr>\n",
              "      <th>19</th>\n",
              "      <td>77.949997</td>\n",
              "    </tr>\n",
              "    <tr>\n",
              "      <th>20</th>\n",
              "      <td>79.269997</td>\n",
              "    </tr>\n",
              "    <tr>\n",
              "      <th>21</th>\n",
              "      <td>94.230003</td>\n",
              "    </tr>\n",
              "    <tr>\n",
              "      <th>22</th>\n",
              "      <td>95.900002</td>\n",
              "    </tr>\n",
              "  </tbody>\n",
              "</table>\n",
              "</div><br><label><b>dtype:</b> float64</label>"
            ]
          },
          "metadata": {},
          "execution_count": 37
        }
      ]
    },
    {
      "cell_type": "markdown",
      "source": [
        "\n",
        "\n",
        "```\n",
        "The mode for SBUX in 1 month is 75.\n",
        "```\n",
        "\n"
      ],
      "metadata": {
        "id": "N1FKoiumnlnl"
      }
    },
    {
      "cell_type": "markdown",
      "source": [
        "## **SBUX DATA IN 6 MONTHS**"
      ],
      "metadata": {
        "id": "1I5fa2SgJP6X"
      }
    },
    {
      "cell_type": "code",
      "source": [
        "data = yf.download(\"SBUX\", period=\"6mo\")\n",
        "data.Close.mean()"
      ],
      "metadata": {
        "colab": {
          "base_uri": "https://localhost:8080/"
        },
        "id": "CjI9c5jAJkRU",
        "outputId": "f176a41a-36b8-4327-d506-27c68f02d84c"
      },
      "execution_count": null,
      "outputs": [
        {
          "output_type": "stream",
          "name": "stderr",
          "text": [
            "\r[*********************100%%**********************]  1 of 1 completed\n"
          ]
        },
        {
          "output_type": "execute_result",
          "data": {
            "text/plain": [
              "82.90682559543185"
            ]
          },
          "metadata": {},
          "execution_count": 44
        }
      ]
    },
    {
      "cell_type": "markdown",
      "source": [
        "\n",
        "\n",
        "```\n",
        "The mean of SBUX in 6 Months is 82.\n",
        "```\n",
        "\n"
      ],
      "metadata": {
        "id": "bSzm0J86UXIt"
      }
    },
    {
      "cell_type": "code",
      "source": [
        "data = yf.download(\"SBUX\", period=\"6mo\")\n",
        "data.Close.median()"
      ],
      "metadata": {
        "colab": {
          "base_uri": "https://localhost:8080/"
        },
        "id": "opQYPwabJo5J",
        "outputId": "2fe0470b-d16f-4706-85ad-36c2ebf78814"
      },
      "execution_count": null,
      "outputs": [
        {
          "output_type": "stream",
          "name": "stderr",
          "text": [
            "\r[*********************100%%**********************]  1 of 1 completed\n"
          ]
        },
        {
          "output_type": "execute_result",
          "data": {
            "text/plain": [
              "80.47999954223633"
            ]
          },
          "metadata": {},
          "execution_count": 45
        }
      ]
    },
    {
      "cell_type": "markdown",
      "source": [
        "\n",
        "\n",
        "```\n",
        "The median of SBUX in 6 Months is 80.\n",
        "```\n",
        "\n"
      ],
      "metadata": {
        "id": "pfmh8LpnUepS"
      }
    },
    {
      "cell_type": "code",
      "source": [
        "import yfinance as yf\n",
        "data = yf.download(\"SBUX\", period=\"6mo\")\n",
        "data.Close.mode()"
      ],
      "metadata": {
        "id": "jzrW-z_aJqlJ",
        "colab": {
          "base_uri": "https://localhost:8080/",
          "height": 258
        },
        "outputId": "a41aa0ba-9676-4bc4-b797-ca1d0253e15c"
      },
      "execution_count": 2,
      "outputs": [
        {
          "output_type": "stream",
          "name": "stderr",
          "text": [
            "\r[*********************100%%**********************]  1 of 1 completed\n"
          ]
        },
        {
          "output_type": "execute_result",
          "data": {
            "text/plain": [
              "0    72.750000\n",
              "1    76.260002\n",
              "2    77.849998\n",
              "3    91.660004\n",
              "4    93.220001\n",
              "Name: Close, dtype: float64"
            ],
            "text/html": [
              "<div>\n",
              "<style scoped>\n",
              "    .dataframe tbody tr th:only-of-type {\n",
              "        vertical-align: middle;\n",
              "    }\n",
              "\n",
              "    .dataframe tbody tr th {\n",
              "        vertical-align: top;\n",
              "    }\n",
              "\n",
              "    .dataframe thead th {\n",
              "        text-align: right;\n",
              "    }\n",
              "</style>\n",
              "<table border=\"1\" class=\"dataframe\">\n",
              "  <thead>\n",
              "    <tr style=\"text-align: right;\">\n",
              "      <th></th>\n",
              "      <th>Close</th>\n",
              "    </tr>\n",
              "  </thead>\n",
              "  <tbody>\n",
              "    <tr>\n",
              "      <th>0</th>\n",
              "      <td>72.750000</td>\n",
              "    </tr>\n",
              "    <tr>\n",
              "      <th>1</th>\n",
              "      <td>76.260002</td>\n",
              "    </tr>\n",
              "    <tr>\n",
              "      <th>2</th>\n",
              "      <td>77.849998</td>\n",
              "    </tr>\n",
              "    <tr>\n",
              "      <th>3</th>\n",
              "      <td>91.660004</td>\n",
              "    </tr>\n",
              "    <tr>\n",
              "      <th>4</th>\n",
              "      <td>93.220001</td>\n",
              "    </tr>\n",
              "  </tbody>\n",
              "</table>\n",
              "</div><br><label><b>dtype:</b> float64</label>"
            ]
          },
          "metadata": {},
          "execution_count": 2
        }
      ]
    },
    {
      "cell_type": "markdown",
      "source": [
        "\n",
        "\n",
        "```\n",
        "The mode for SBUX in 6 months is 72\n",
        "```\n",
        "\n"
      ],
      "metadata": {
        "id": "BQszXo-Fnt89"
      }
    },
    {
      "cell_type": "markdown",
      "source": [
        "## **SBUX DATA IN 2 YEARS**"
      ],
      "metadata": {
        "id": "Ux4wfe7wJTJy"
      }
    },
    {
      "cell_type": "code",
      "source": [
        "data = yf.download(\"SBUX\", period=\"2y\")\n",
        "data.Close.mean()"
      ],
      "metadata": {
        "colab": {
          "base_uri": "https://localhost:8080/"
        },
        "id": "jdxXY46LJt9Z",
        "outputId": "8054910d-a298-4871-9358-bbd97989d655"
      },
      "execution_count": null,
      "outputs": [
        {
          "output_type": "stream",
          "name": "stderr",
          "text": [
            "\r[*********************100%%**********************]  1 of 1 completed\n"
          ]
        },
        {
          "output_type": "execute_result",
          "data": {
            "text/plain": [
              "94.16190861423257"
            ]
          },
          "metadata": {},
          "execution_count": 46
        }
      ]
    },
    {
      "cell_type": "markdown",
      "source": [
        "\n",
        "\n",
        "```\n",
        "The mean of SBUX in 2 years is 94.\n",
        "```\n",
        "\n"
      ],
      "metadata": {
        "id": "AstDnCiYUsAq"
      }
    },
    {
      "cell_type": "code",
      "source": [
        "data = yf.download(\"SBUX\", period=\"2y\")\n",
        "data.Close.median()"
      ],
      "metadata": {
        "colab": {
          "base_uri": "https://localhost:8080/"
        },
        "id": "Ox-g6XW1JwPR",
        "outputId": "ae2b07e2-9fd1-4775-97c3-f4dd3fb7c9e9"
      },
      "execution_count": null,
      "outputs": [
        {
          "output_type": "stream",
          "name": "stderr",
          "text": [
            "\r[*********************100%%**********************]  1 of 1 completed\n"
          ]
        },
        {
          "output_type": "execute_result",
          "data": {
            "text/plain": [
              "95.47000122070312"
            ]
          },
          "metadata": {},
          "execution_count": 47
        }
      ]
    },
    {
      "cell_type": "markdown",
      "source": [
        "\n",
        "\n",
        "```\n",
        "The median of SBUX in 2 years is 95.\n",
        "```\n",
        "\n"
      ],
      "metadata": {
        "id": "QI5bKxZfUxDi"
      }
    },
    {
      "cell_type": "code",
      "source": [
        "data = yf.download(\"SBUX\", period=\"2y\")\n",
        "data.Close.mode()"
      ],
      "metadata": {
        "id": "nHSdRHBzJyju",
        "colab": {
          "base_uri": "https://localhost:8080/",
          "height": 290
        },
        "outputId": "c4000c36-2e03-43cc-ce5e-ac1859247dd6"
      },
      "execution_count": 3,
      "outputs": [
        {
          "output_type": "stream",
          "name": "stderr",
          "text": [
            "\r[*********************100%%**********************]  1 of 1 completed\n"
          ]
        },
        {
          "output_type": "execute_result",
          "data": {
            "text/plain": [
              "0     95.669998\n",
              "1     98.660004\n",
              "2     99.150002\n",
              "3     99.199997\n",
              "4    101.870003\n",
              "5    104.300003\n",
              "Name: Close, dtype: float64"
            ],
            "text/html": [
              "<div>\n",
              "<style scoped>\n",
              "    .dataframe tbody tr th:only-of-type {\n",
              "        vertical-align: middle;\n",
              "    }\n",
              "\n",
              "    .dataframe tbody tr th {\n",
              "        vertical-align: top;\n",
              "    }\n",
              "\n",
              "    .dataframe thead th {\n",
              "        text-align: right;\n",
              "    }\n",
              "</style>\n",
              "<table border=\"1\" class=\"dataframe\">\n",
              "  <thead>\n",
              "    <tr style=\"text-align: right;\">\n",
              "      <th></th>\n",
              "      <th>Close</th>\n",
              "    </tr>\n",
              "  </thead>\n",
              "  <tbody>\n",
              "    <tr>\n",
              "      <th>0</th>\n",
              "      <td>95.669998</td>\n",
              "    </tr>\n",
              "    <tr>\n",
              "      <th>1</th>\n",
              "      <td>98.660004</td>\n",
              "    </tr>\n",
              "    <tr>\n",
              "      <th>2</th>\n",
              "      <td>99.150002</td>\n",
              "    </tr>\n",
              "    <tr>\n",
              "      <th>3</th>\n",
              "      <td>99.199997</td>\n",
              "    </tr>\n",
              "    <tr>\n",
              "      <th>4</th>\n",
              "      <td>101.870003</td>\n",
              "    </tr>\n",
              "    <tr>\n",
              "      <th>5</th>\n",
              "      <td>104.300003</td>\n",
              "    </tr>\n",
              "  </tbody>\n",
              "</table>\n",
              "</div><br><label><b>dtype:</b> float64</label>"
            ]
          },
          "metadata": {},
          "execution_count": 3
        }
      ]
    },
    {
      "cell_type": "markdown",
      "source": [
        "\n",
        "\n",
        "```\n",
        "The mode for SBUX for 2 years is 99.\n",
        "```\n",
        "\n"
      ],
      "metadata": {
        "id": "b9-XcK9GoJEr"
      }
    },
    {
      "cell_type": "markdown",
      "source": [
        "## **SBUX DATA IN 5 YEARS**"
      ],
      "metadata": {
        "id": "PH8o_GjlJaVr"
      }
    },
    {
      "cell_type": "code",
      "source": [
        "data = yf.download(\"SBUX\", period=\"5y\")\n",
        "data.Close.mean()"
      ],
      "metadata": {
        "colab": {
          "base_uri": "https://localhost:8080/"
        },
        "id": "sWmR1lXTJ3OV",
        "outputId": "985d0aa2-513f-47ff-c74b-81546a57c111"
      },
      "execution_count": null,
      "outputs": [
        {
          "output_type": "stream",
          "name": "stderr",
          "text": [
            "\r[*********************100%%**********************]  1 of 1 completed\n"
          ]
        },
        {
          "output_type": "execute_result",
          "data": {
            "text/plain": [
              "93.87865366795594"
            ]
          },
          "metadata": {},
          "execution_count": 50
        }
      ]
    },
    {
      "cell_type": "markdown",
      "source": [
        "\n",
        "\n",
        "```\n",
        "The mean of SBUX in 5 years is 93.\n",
        "```\n",
        "\n"
      ],
      "metadata": {
        "id": "7c42m6zBU4M1"
      }
    },
    {
      "cell_type": "code",
      "source": [
        "data = yf.download(\"SBUX\", period=\"5y\")\n",
        "data.Close.median()"
      ],
      "metadata": {
        "colab": {
          "base_uri": "https://localhost:8080/"
        },
        "id": "ZjQpbXx9JOyP",
        "outputId": "d1bddc6c-2638-4fd6-d76b-a19d5c5da7a4"
      },
      "execution_count": null,
      "outputs": [
        {
          "output_type": "stream",
          "name": "stderr",
          "text": [
            "\r[*********************100%%**********************]  1 of 1 completed\n"
          ]
        },
        {
          "output_type": "execute_result",
          "data": {
            "text/plain": [
              "93.33999633789062"
            ]
          },
          "metadata": {},
          "execution_count": 51
        }
      ]
    },
    {
      "cell_type": "markdown",
      "source": [
        "\n",
        "\n",
        "```\n",
        "The median of SBUX in 5 years is 93\n",
        "```\n",
        "\n"
      ],
      "metadata": {
        "id": "FDEaWBq-U9Nz"
      }
    },
    {
      "cell_type": "code",
      "source": [
        "data = yf.download(\"SBUX\", period=\"2y\")\n",
        "data.Close.mode()"
      ],
      "metadata": {
        "id": "-boAWflQJ7mq",
        "colab": {
          "base_uri": "https://localhost:8080/",
          "height": 290
        },
        "outputId": "665d7396-f60c-4704-f503-83ea028d63a4"
      },
      "execution_count": 4,
      "outputs": [
        {
          "output_type": "stream",
          "name": "stderr",
          "text": [
            "\r[*********************100%%**********************]  1 of 1 completed\n"
          ]
        },
        {
          "output_type": "execute_result",
          "data": {
            "text/plain": [
              "0     95.669998\n",
              "1     98.660004\n",
              "2     99.150002\n",
              "3     99.199997\n",
              "4    101.870003\n",
              "5    104.300003\n",
              "Name: Close, dtype: float64"
            ],
            "text/html": [
              "<div>\n",
              "<style scoped>\n",
              "    .dataframe tbody tr th:only-of-type {\n",
              "        vertical-align: middle;\n",
              "    }\n",
              "\n",
              "    .dataframe tbody tr th {\n",
              "        vertical-align: top;\n",
              "    }\n",
              "\n",
              "    .dataframe thead th {\n",
              "        text-align: right;\n",
              "    }\n",
              "</style>\n",
              "<table border=\"1\" class=\"dataframe\">\n",
              "  <thead>\n",
              "    <tr style=\"text-align: right;\">\n",
              "      <th></th>\n",
              "      <th>Close</th>\n",
              "    </tr>\n",
              "  </thead>\n",
              "  <tbody>\n",
              "    <tr>\n",
              "      <th>0</th>\n",
              "      <td>95.669998</td>\n",
              "    </tr>\n",
              "    <tr>\n",
              "      <th>1</th>\n",
              "      <td>98.660004</td>\n",
              "    </tr>\n",
              "    <tr>\n",
              "      <th>2</th>\n",
              "      <td>99.150002</td>\n",
              "    </tr>\n",
              "    <tr>\n",
              "      <th>3</th>\n",
              "      <td>99.199997</td>\n",
              "    </tr>\n",
              "    <tr>\n",
              "      <th>4</th>\n",
              "      <td>101.870003</td>\n",
              "    </tr>\n",
              "    <tr>\n",
              "      <th>5</th>\n",
              "      <td>104.300003</td>\n",
              "    </tr>\n",
              "  </tbody>\n",
              "</table>\n",
              "</div><br><label><b>dtype:</b> float64</label>"
            ]
          },
          "metadata": {},
          "execution_count": 4
        }
      ]
    },
    {
      "cell_type": "markdown",
      "source": [
        "\n",
        "\n",
        "```\n",
        "The mode for SBUX in 2 years is 99.\n",
        "```\n",
        "\n"
      ],
      "metadata": {
        "id": "ip8N-tRRoQad"
      }
    },
    {
      "cell_type": "markdown",
      "source": [],
      "metadata": {
        "id": "g22fAo4DKChh"
      }
    },
    {
      "cell_type": "markdown",
      "source": [
        "## **HD STOCK INFORMATION**"
      ],
      "metadata": {
        "id": "pUMtgMoHKHQ2"
      }
    },
    {
      "cell_type": "code",
      "execution_count": null,
      "metadata": {
        "collapsed": true,
        "id": "VsDDXzUhPffD"
      },
      "outputs": [],
      "source": [
        "import pandas as pd\n",
        "hd = yf.Ticker(\"HD\")"
      ]
    },
    {
      "cell_type": "markdown",
      "source": [
        "## **HD DATA IN 1 MONTH**"
      ],
      "metadata": {
        "id": "z0BZAsnuKZrI"
      }
    },
    {
      "cell_type": "code",
      "source": [
        "data = yf.download(\"HD\", period=\"1mo\")\n",
        "data.Close.mean()"
      ],
      "metadata": {
        "colab": {
          "base_uri": "https://localhost:8080/"
        },
        "id": "AsmxQ5ZJQzyB",
        "outputId": "3fd8cffd-d8ff-4216-cc68-92731da63384"
      },
      "execution_count": null,
      "outputs": [
        {
          "output_type": "stream",
          "name": "stderr",
          "text": [
            "\r[*********************100%%**********************]  1 of 1 completed\n"
          ]
        },
        {
          "output_type": "execute_result",
          "data": {
            "text/plain": [
              "357.42778744904894"
            ]
          },
          "metadata": {},
          "execution_count": 42
        }
      ]
    },
    {
      "cell_type": "markdown",
      "source": [
        "\n",
        "\n",
        "```\n",
        "The mean of HD in 1 month is 357.\n",
        "```\n",
        "\n"
      ],
      "metadata": {
        "id": "_pGa5FhNVMbx"
      }
    },
    {
      "cell_type": "code",
      "source": [
        "data = yf.download(\"HD\", period=\"1mo\")\n",
        "data.Close.median()"
      ],
      "metadata": {
        "colab": {
          "base_uri": "https://localhost:8080/"
        },
        "id": "LX5eol3mRBgJ",
        "outputId": "b1fdd1ac-7064-4a50-b018-d10727ea2ffd"
      },
      "execution_count": null,
      "outputs": [
        {
          "output_type": "stream",
          "name": "stderr",
          "text": [
            "\r[*********************100%%**********************]  1 of 1 completed\n"
          ]
        },
        {
          "output_type": "execute_result",
          "data": {
            "text/plain": [
              "358.4599914550781"
            ]
          },
          "metadata": {},
          "execution_count": 52
        }
      ]
    },
    {
      "cell_type": "markdown",
      "source": [
        "\n",
        "\n",
        "```\n",
        "The median of HD in 1 month is 358.\n",
        "```\n",
        "\n"
      ],
      "metadata": {
        "id": "Q21UuJMAVRuH"
      }
    },
    {
      "cell_type": "code",
      "source": [
        "data = yf.download(\"HD\", period=\"1mo\")\n",
        "data.Close.mode()"
      ],
      "metadata": {
        "id": "GtDYMDCHRECN",
        "colab": {
          "base_uri": "https://localhost:8080/",
          "height": 823
        },
        "outputId": "23a28752-6a3d-4505-8257-a7ddcf02ffa5"
      },
      "execution_count": 5,
      "outputs": [
        {
          "output_type": "stream",
          "name": "stderr",
          "text": [
            "\r[*********************100%%**********************]  1 of 1 completed\n"
          ]
        },
        {
          "output_type": "execute_result",
          "data": {
            "text/plain": [
              "0     342.399994\n",
              "1     345.809998\n",
              "2     348.339996\n",
              "3     348.640015\n",
              "4     350.010010\n",
              "5     350.070007\n",
              "6     350.309998\n",
              "7     353.290009\n",
              "8     353.910004\n",
              "9     355.429993\n",
              "10    355.660004\n",
              "11    358.459991\n",
              "12    358.579987\n",
              "13    359.510010\n",
              "14    359.619995\n",
              "15    361.670013\n",
              "16    363.250000\n",
              "17    363.359985\n",
              "18    363.690002\n",
              "19    366.079987\n",
              "20    368.160004\n",
              "21    369.119995\n",
              "22    371.890015\n",
              "Name: Close, dtype: float64"
            ],
            "text/html": [
              "<div>\n",
              "<style scoped>\n",
              "    .dataframe tbody tr th:only-of-type {\n",
              "        vertical-align: middle;\n",
              "    }\n",
              "\n",
              "    .dataframe tbody tr th {\n",
              "        vertical-align: top;\n",
              "    }\n",
              "\n",
              "    .dataframe thead th {\n",
              "        text-align: right;\n",
              "    }\n",
              "</style>\n",
              "<table border=\"1\" class=\"dataframe\">\n",
              "  <thead>\n",
              "    <tr style=\"text-align: right;\">\n",
              "      <th></th>\n",
              "      <th>Close</th>\n",
              "    </tr>\n",
              "  </thead>\n",
              "  <tbody>\n",
              "    <tr>\n",
              "      <th>0</th>\n",
              "      <td>342.399994</td>\n",
              "    </tr>\n",
              "    <tr>\n",
              "      <th>1</th>\n",
              "      <td>345.809998</td>\n",
              "    </tr>\n",
              "    <tr>\n",
              "      <th>2</th>\n",
              "      <td>348.339996</td>\n",
              "    </tr>\n",
              "    <tr>\n",
              "      <th>3</th>\n",
              "      <td>348.640015</td>\n",
              "    </tr>\n",
              "    <tr>\n",
              "      <th>4</th>\n",
              "      <td>350.010010</td>\n",
              "    </tr>\n",
              "    <tr>\n",
              "      <th>5</th>\n",
              "      <td>350.070007</td>\n",
              "    </tr>\n",
              "    <tr>\n",
              "      <th>6</th>\n",
              "      <td>350.309998</td>\n",
              "    </tr>\n",
              "    <tr>\n",
              "      <th>7</th>\n",
              "      <td>353.290009</td>\n",
              "    </tr>\n",
              "    <tr>\n",
              "      <th>8</th>\n",
              "      <td>353.910004</td>\n",
              "    </tr>\n",
              "    <tr>\n",
              "      <th>9</th>\n",
              "      <td>355.429993</td>\n",
              "    </tr>\n",
              "    <tr>\n",
              "      <th>10</th>\n",
              "      <td>355.660004</td>\n",
              "    </tr>\n",
              "    <tr>\n",
              "      <th>11</th>\n",
              "      <td>358.459991</td>\n",
              "    </tr>\n",
              "    <tr>\n",
              "      <th>12</th>\n",
              "      <td>358.579987</td>\n",
              "    </tr>\n",
              "    <tr>\n",
              "      <th>13</th>\n",
              "      <td>359.510010</td>\n",
              "    </tr>\n",
              "    <tr>\n",
              "      <th>14</th>\n",
              "      <td>359.619995</td>\n",
              "    </tr>\n",
              "    <tr>\n",
              "      <th>15</th>\n",
              "      <td>361.670013</td>\n",
              "    </tr>\n",
              "    <tr>\n",
              "      <th>16</th>\n",
              "      <td>363.250000</td>\n",
              "    </tr>\n",
              "    <tr>\n",
              "      <th>17</th>\n",
              "      <td>363.359985</td>\n",
              "    </tr>\n",
              "    <tr>\n",
              "      <th>18</th>\n",
              "      <td>363.690002</td>\n",
              "    </tr>\n",
              "    <tr>\n",
              "      <th>19</th>\n",
              "      <td>366.079987</td>\n",
              "    </tr>\n",
              "    <tr>\n",
              "      <th>20</th>\n",
              "      <td>368.160004</td>\n",
              "    </tr>\n",
              "    <tr>\n",
              "      <th>21</th>\n",
              "      <td>369.119995</td>\n",
              "    </tr>\n",
              "    <tr>\n",
              "      <th>22</th>\n",
              "      <td>371.890015</td>\n",
              "    </tr>\n",
              "  </tbody>\n",
              "</table>\n",
              "</div><br><label><b>dtype:</b> float64</label>"
            ]
          },
          "metadata": {},
          "execution_count": 5
        }
      ]
    },
    {
      "cell_type": "markdown",
      "source": [
        "\n",
        "\n",
        "```\n",
        "The mode for SBUX in 1 month is 355.\n",
        "```\n",
        "\n"
      ],
      "metadata": {
        "id": "B5stzK9JoW95"
      }
    },
    {
      "cell_type": "markdown",
      "source": [
        "## **HD DATA IN 6 MONTHS**"
      ],
      "metadata": {
        "id": "7YatUKySKb0E"
      }
    },
    {
      "cell_type": "code",
      "source": [
        "data = yf.download(\"HD\", period=\"6mo\")\n",
        "data.Close.mean()"
      ],
      "metadata": {
        "colab": {
          "base_uri": "https://localhost:8080/"
        },
        "id": "TCpt_ySURHrj",
        "outputId": "0ba74626-cc50-4993-b4fd-07edbc90868e"
      },
      "execution_count": null,
      "outputs": [
        {
          "output_type": "stream",
          "name": "stderr",
          "text": [
            "\r[*********************100%%**********************]  1 of 1 completed\n"
          ]
        },
        {
          "output_type": "execute_result",
          "data": {
            "text/plain": [
              "352.69076756068637"
            ]
          },
          "metadata": {},
          "execution_count": 53
        }
      ]
    },
    {
      "cell_type": "markdown",
      "source": [
        "\n",
        "\n",
        "```\n",
        "The mean of HD in 6 months is 352.\n",
        "```\n",
        "\n"
      ],
      "metadata": {
        "id": "mSkX7hbkVX2V"
      }
    },
    {
      "cell_type": "code",
      "source": [
        "data = yf.download(\"HD\", period=\"6mo\")\n",
        "data.Close.median()"
      ],
      "metadata": {
        "colab": {
          "base_uri": "https://localhost:8080/"
        },
        "id": "zG98t9h9RKMr",
        "outputId": "5f8b5e3b-84f8-4b03-f97e-5e38dddab21f"
      },
      "execution_count": null,
      "outputs": [
        {
          "output_type": "stream",
          "name": "stderr",
          "text": [
            "\r[*********************100%%**********************]  1 of 1 completed\n"
          ]
        },
        {
          "output_type": "execute_result",
          "data": {
            "text/plain": [
              "350.0400085449219"
            ]
          },
          "metadata": {},
          "execution_count": 54
        }
      ]
    },
    {
      "cell_type": "markdown",
      "source": [
        "\n",
        "\n",
        "```\n",
        "The median of HD in 6 months is 350.\n",
        "```\n",
        "\n"
      ],
      "metadata": {
        "id": "X3vNayz0ViRb"
      }
    },
    {
      "cell_type": "code",
      "source": [
        "data = yf.download(\"HD\", period=\"6mo\")\n",
        "data.Close.mode()"
      ],
      "metadata": {
        "id": "Zd3hr2gyRNez",
        "colab": {
          "base_uri": "https://localhost:8080/",
          "height": 476
        },
        "outputId": "18b27bdd-47f2-4d8f-c02e-26eae8845246"
      },
      "execution_count": 6,
      "outputs": [
        {
          "output_type": "stream",
          "name": "stderr",
          "text": [
            "\r[*********************100%%**********************]  1 of 1 completed\n"
          ]
        },
        {
          "output_type": "execute_result",
          "data": {
            "text/plain": [
              "0      325.100006\n",
              "1      325.910004\n",
              "2      326.890015\n",
              "3      327.029999\n",
              "4      328.010010\n",
              "          ...    \n",
              "120    384.410004\n",
              "121    384.450012\n",
              "122    385.890015\n",
              "123    390.279999\n",
              "124    395.200012\n",
              "Name: Close, Length: 125, dtype: float64"
            ],
            "text/html": [
              "<div>\n",
              "<style scoped>\n",
              "    .dataframe tbody tr th:only-of-type {\n",
              "        vertical-align: middle;\n",
              "    }\n",
              "\n",
              "    .dataframe tbody tr th {\n",
              "        vertical-align: top;\n",
              "    }\n",
              "\n",
              "    .dataframe thead th {\n",
              "        text-align: right;\n",
              "    }\n",
              "</style>\n",
              "<table border=\"1\" class=\"dataframe\">\n",
              "  <thead>\n",
              "    <tr style=\"text-align: right;\">\n",
              "      <th></th>\n",
              "      <th>Close</th>\n",
              "    </tr>\n",
              "  </thead>\n",
              "  <tbody>\n",
              "    <tr>\n",
              "      <th>0</th>\n",
              "      <td>325.100006</td>\n",
              "    </tr>\n",
              "    <tr>\n",
              "      <th>1</th>\n",
              "      <td>325.910004</td>\n",
              "    </tr>\n",
              "    <tr>\n",
              "      <th>2</th>\n",
              "      <td>326.890015</td>\n",
              "    </tr>\n",
              "    <tr>\n",
              "      <th>3</th>\n",
              "      <td>327.029999</td>\n",
              "    </tr>\n",
              "    <tr>\n",
              "      <th>4</th>\n",
              "      <td>328.010010</td>\n",
              "    </tr>\n",
              "    <tr>\n",
              "      <th>...</th>\n",
              "      <td>...</td>\n",
              "    </tr>\n",
              "    <tr>\n",
              "      <th>120</th>\n",
              "      <td>384.410004</td>\n",
              "    </tr>\n",
              "    <tr>\n",
              "      <th>121</th>\n",
              "      <td>384.450012</td>\n",
              "    </tr>\n",
              "    <tr>\n",
              "      <th>122</th>\n",
              "      <td>385.890015</td>\n",
              "    </tr>\n",
              "    <tr>\n",
              "      <th>123</th>\n",
              "      <td>390.279999</td>\n",
              "    </tr>\n",
              "    <tr>\n",
              "      <th>124</th>\n",
              "      <td>395.200012</td>\n",
              "    </tr>\n",
              "  </tbody>\n",
              "</table>\n",
              "<p>125 rows × 1 columns</p>\n",
              "</div><br><label><b>dtype:</b> float64</label>"
            ]
          },
          "metadata": {},
          "execution_count": 6
        }
      ]
    },
    {
      "cell_type": "markdown",
      "source": [
        "\n",
        "\n",
        "```\n",
        "The mode of HD in 6 months is 325.\n",
        "```\n",
        "\n"
      ],
      "metadata": {
        "id": "QCbVkHx4oeJt"
      }
    },
    {
      "cell_type": "markdown",
      "source": [
        "## **HD DATA IN 2 YEARS**"
      ],
      "metadata": {
        "id": "u2VsRTaFKels"
      }
    },
    {
      "cell_type": "code",
      "source": [
        "data = yf.download(\"HD\", period=\"2y\")\n",
        "data.Close.mean()"
      ],
      "metadata": {
        "colab": {
          "base_uri": "https://localhost:8080/"
        },
        "id": "4L1uEwoJRSna",
        "outputId": "f4311a42-2d48-4d7f-8ce8-145228379653"
      },
      "execution_count": null,
      "outputs": [
        {
          "output_type": "stream",
          "name": "stderr",
          "text": [
            "\r[*********************100%%**********************]  1 of 1 completed\n"
          ]
        },
        {
          "output_type": "execute_result",
          "data": {
            "text/plain": [
              "320.66158554046814"
            ]
          },
          "metadata": {},
          "execution_count": 55
        }
      ]
    },
    {
      "cell_type": "markdown",
      "source": [
        "\n",
        "\n",
        "```\n",
        "The mean of HD in 2 years is 320.\n",
        "```\n",
        "\n"
      ],
      "metadata": {
        "id": "Ui1uh68tVpum"
      }
    },
    {
      "cell_type": "code",
      "source": [
        "data = yf.download(\"HD\", period=\"2y\")\n",
        "data.Close.median()"
      ],
      "metadata": {
        "colab": {
          "base_uri": "https://localhost:8080/"
        },
        "id": "IvVVGxSkRVYr",
        "outputId": "e16220e1-6133-4e56-affa-10f8f67c84b2"
      },
      "execution_count": null,
      "outputs": [
        {
          "output_type": "stream",
          "name": "stderr",
          "text": [
            "\r[*********************100%%**********************]  1 of 1 completed\n"
          ]
        },
        {
          "output_type": "execute_result",
          "data": {
            "text/plain": [
              "319.7300109863281"
            ]
          },
          "metadata": {},
          "execution_count": 56
        }
      ]
    },
    {
      "cell_type": "markdown",
      "source": [
        "\n",
        "\n",
        "```\n",
        "The median of HD in 2 years is 319.\n",
        "```\n",
        "\n"
      ],
      "metadata": {
        "id": "taqHdV4pVvDW"
      }
    },
    {
      "cell_type": "code",
      "source": [
        "data = yf.download(\"HD\", period=\"2y\")\n",
        "data.Close.mode()"
      ],
      "metadata": {
        "id": "aIw4aBGHRXKj",
        "colab": {
          "base_uri": "https://localhost:8080/",
          "height": 540
        },
        "outputId": "0f2aae87-4c51-4858-c1c8-01a51e6c2174"
      },
      "execution_count": 7,
      "outputs": [
        {
          "output_type": "stream",
          "name": "stderr",
          "text": [
            "\r[*********************100%%**********************]  1 of 1 completed\n"
          ]
        },
        {
          "output_type": "execute_result",
          "data": {
            "text/plain": [
              "0     286.750000\n",
              "1     288.070007\n",
              "2     288.390015\n",
              "3     292.390015\n",
              "4     293.019989\n",
              "5     293.100006\n",
              "6     295.940002\n",
              "7     302.019989\n",
              "8     308.190002\n",
              "9     314.609985\n",
              "10    317.260010\n",
              "11    325.910004\n",
              "12    332.890015\n",
              "13    355.700012\n",
              "Name: Close, dtype: float64"
            ],
            "text/html": [
              "<div>\n",
              "<style scoped>\n",
              "    .dataframe tbody tr th:only-of-type {\n",
              "        vertical-align: middle;\n",
              "    }\n",
              "\n",
              "    .dataframe tbody tr th {\n",
              "        vertical-align: top;\n",
              "    }\n",
              "\n",
              "    .dataframe thead th {\n",
              "        text-align: right;\n",
              "    }\n",
              "</style>\n",
              "<table border=\"1\" class=\"dataframe\">\n",
              "  <thead>\n",
              "    <tr style=\"text-align: right;\">\n",
              "      <th></th>\n",
              "      <th>Close</th>\n",
              "    </tr>\n",
              "  </thead>\n",
              "  <tbody>\n",
              "    <tr>\n",
              "      <th>0</th>\n",
              "      <td>286.750000</td>\n",
              "    </tr>\n",
              "    <tr>\n",
              "      <th>1</th>\n",
              "      <td>288.070007</td>\n",
              "    </tr>\n",
              "    <tr>\n",
              "      <th>2</th>\n",
              "      <td>288.390015</td>\n",
              "    </tr>\n",
              "    <tr>\n",
              "      <th>3</th>\n",
              "      <td>292.390015</td>\n",
              "    </tr>\n",
              "    <tr>\n",
              "      <th>4</th>\n",
              "      <td>293.019989</td>\n",
              "    </tr>\n",
              "    <tr>\n",
              "      <th>5</th>\n",
              "      <td>293.100006</td>\n",
              "    </tr>\n",
              "    <tr>\n",
              "      <th>6</th>\n",
              "      <td>295.940002</td>\n",
              "    </tr>\n",
              "    <tr>\n",
              "      <th>7</th>\n",
              "      <td>302.019989</td>\n",
              "    </tr>\n",
              "    <tr>\n",
              "      <th>8</th>\n",
              "      <td>308.190002</td>\n",
              "    </tr>\n",
              "    <tr>\n",
              "      <th>9</th>\n",
              "      <td>314.609985</td>\n",
              "    </tr>\n",
              "    <tr>\n",
              "      <th>10</th>\n",
              "      <td>317.260010</td>\n",
              "    </tr>\n",
              "    <tr>\n",
              "      <th>11</th>\n",
              "      <td>325.910004</td>\n",
              "    </tr>\n",
              "    <tr>\n",
              "      <th>12</th>\n",
              "      <td>332.890015</td>\n",
              "    </tr>\n",
              "    <tr>\n",
              "      <th>13</th>\n",
              "      <td>355.700012</td>\n",
              "    </tr>\n",
              "  </tbody>\n",
              "</table>\n",
              "</div><br><label><b>dtype:</b> float64</label>"
            ]
          },
          "metadata": {},
          "execution_count": 7
        }
      ]
    },
    {
      "cell_type": "markdown",
      "source": [
        "\n",
        "\n",
        "```\n",
        "The mode for HD in 2 years is 288.\n",
        "```\n",
        "\n"
      ],
      "metadata": {
        "id": "zXZH-EN6ooc6"
      }
    },
    {
      "cell_type": "markdown",
      "source": [
        "## **HD DATA IN 5 YEARS**"
      ],
      "metadata": {
        "id": "KzowG0-hKi6E"
      }
    },
    {
      "cell_type": "code",
      "source": [
        "data = yf.download(\"HD\", period=\"5y\")\n",
        "data.Close.mean()"
      ],
      "metadata": {
        "colab": {
          "base_uri": "https://localhost:8080/"
        },
        "id": "HJGFbbm3RZdD",
        "outputId": "be289063-de29-4be2-ae59-146b125df831"
      },
      "execution_count": null,
      "outputs": [
        {
          "output_type": "stream",
          "name": "stderr",
          "text": [
            "\r[*********************100%%**********************]  1 of 1 completed\n"
          ]
        },
        {
          "output_type": "execute_result",
          "data": {
            "text/plain": [
              "299.553228582817"
            ]
          },
          "metadata": {},
          "execution_count": 57
        }
      ]
    },
    {
      "cell_type": "markdown",
      "source": [
        "\n",
        "\n",
        "```\n",
        "The mean of HD in 5 years is 299.\n",
        "```\n",
        "\n"
      ],
      "metadata": {
        "id": "dyzfwW_DV0O_"
      }
    },
    {
      "cell_type": "code",
      "source": [
        "data = yf.download(\"HD\", period=\"5y\")\n",
        "data.Close.median()"
      ],
      "metadata": {
        "colab": {
          "base_uri": "https://localhost:8080/"
        },
        "id": "2yktU1cVRc8D",
        "outputId": "1ed190a1-6a9e-45db-d8ac-0917d0bdbb9b"
      },
      "execution_count": null,
      "outputs": [
        {
          "output_type": "stream",
          "name": "stderr",
          "text": [
            "\r[*********************100%%**********************]  1 of 1 completed\n"
          ]
        },
        {
          "output_type": "execute_result",
          "data": {
            "text/plain": [
              "301.6000061035156"
            ]
          },
          "metadata": {},
          "execution_count": 58
        }
      ]
    },
    {
      "cell_type": "markdown",
      "source": [
        "\n",
        "\n",
        "```\n",
        "The median of HD in 5 years is 301.\n",
        "```\n",
        "\n"
      ],
      "metadata": {
        "id": "2ZN88sQ7V6Ef"
      }
    },
    {
      "cell_type": "code",
      "source": [
        "data = yf.download(\"HD\", period=\"5y\")\n",
        "data.Close.mode()"
      ],
      "metadata": {
        "id": "vBP711BdRfbz",
        "colab": {
          "base_uri": "https://localhost:8080/",
          "height": 133
        },
        "outputId": "0cf4d576-b70c-460a-8663-90b0678c2504"
      },
      "execution_count": 8,
      "outputs": [
        {
          "output_type": "stream",
          "name": "stderr",
          "text": [
            "\r[*********************100%%**********************]  1 of 1 completed\n"
          ]
        },
        {
          "output_type": "execute_result",
          "data": {
            "text/plain": [
              "0    286.75\n",
              "Name: Close, dtype: float64"
            ],
            "text/html": [
              "<div>\n",
              "<style scoped>\n",
              "    .dataframe tbody tr th:only-of-type {\n",
              "        vertical-align: middle;\n",
              "    }\n",
              "\n",
              "    .dataframe tbody tr th {\n",
              "        vertical-align: top;\n",
              "    }\n",
              "\n",
              "    .dataframe thead th {\n",
              "        text-align: right;\n",
              "    }\n",
              "</style>\n",
              "<table border=\"1\" class=\"dataframe\">\n",
              "  <thead>\n",
              "    <tr style=\"text-align: right;\">\n",
              "      <th></th>\n",
              "      <th>Close</th>\n",
              "    </tr>\n",
              "  </thead>\n",
              "  <tbody>\n",
              "    <tr>\n",
              "      <th>0</th>\n",
              "      <td>286.75</td>\n",
              "    </tr>\n",
              "  </tbody>\n",
              "</table>\n",
              "</div><br><label><b>dtype:</b> float64</label>"
            ]
          },
          "metadata": {},
          "execution_count": 8
        }
      ]
    },
    {
      "cell_type": "markdown",
      "source": [
        "\n",
        "\n",
        "```\n",
        "The mode for HD in 5 years is 286.\n",
        "```\n",
        "\n"
      ],
      "metadata": {
        "id": "bIF3L9Wmox7s"
      }
    },
    {
      "cell_type": "markdown",
      "source": [
        "## **CMG STOCK INFORMATION**"
      ],
      "metadata": {
        "id": "3YbwsME7KJW8"
      }
    },
    {
      "cell_type": "code",
      "execution_count": null,
      "metadata": {
        "collapsed": true,
        "id": "Uv6XZ5hePsXz"
      },
      "outputs": [],
      "source": [
        "import pandas as pd\n",
        "cmg = yf.Ticker(\"CMG\")"
      ]
    },
    {
      "cell_type": "markdown",
      "source": [
        "## **CMG DATA IN 1 MONTH**"
      ],
      "metadata": {
        "id": "1h17oWMkKn7B"
      }
    },
    {
      "cell_type": "code",
      "source": [
        "data = yf.download(\"CMG\", period=\"1mo\")\n",
        "data.Close.mean()"
      ],
      "metadata": {
        "colab": {
          "base_uri": "https://localhost:8080/"
        },
        "id": "gKpQ1DCdRim8",
        "outputId": "bbf09aa6-9f15-483c-9019-828f72b69c94"
      },
      "execution_count": null,
      "outputs": [
        {
          "output_type": "stream",
          "name": "stderr",
          "text": [
            "\r[*********************100%%**********************]  1 of 1 completed\n"
          ]
        },
        {
          "output_type": "execute_result",
          "data": {
            "text/plain": [
              "53.395656751549765"
            ]
          },
          "metadata": {},
          "execution_count": 59
        }
      ]
    },
    {
      "cell_type": "markdown",
      "source": [
        "\n",
        "\n",
        "```\n",
        "The mean of CMG in 1 month is 53.\n",
        "```\n",
        "\n"
      ],
      "metadata": {
        "id": "xDxWho7WWAyH"
      }
    },
    {
      "cell_type": "code",
      "source": [
        "data = yf.download(\"CMG\", period=\"1mo\")\n",
        "data.Close.median()"
      ],
      "metadata": {
        "colab": {
          "base_uri": "https://localhost:8080/"
        },
        "id": "AqEnFStGRnG7",
        "outputId": "114fc29d-b390-41be-b0ea-f258d1f4f05f"
      },
      "execution_count": null,
      "outputs": [
        {
          "output_type": "stream",
          "name": "stderr",
          "text": [
            "\r[*********************100%%**********************]  1 of 1 completed\n"
          ]
        },
        {
          "output_type": "execute_result",
          "data": {
            "text/plain": [
              "53.459999084472656"
            ]
          },
          "metadata": {},
          "execution_count": 60
        }
      ]
    },
    {
      "cell_type": "markdown",
      "source": [
        "\n",
        "\n",
        "```\n",
        "The median of CMG in 1 month is 53.\n",
        "```\n",
        "\n"
      ],
      "metadata": {
        "id": "gBnzJiWZWFt8"
      }
    },
    {
      "cell_type": "code",
      "source": [
        "data = yf.download(\"CMG\", period=\"1mo\")\n",
        "data.Close.mode()"
      ],
      "metadata": {
        "id": "yL9LIoOERnwI",
        "colab": {
          "base_uri": "https://localhost:8080/",
          "height": 164
        },
        "outputId": "4d956aa7-cd96-47b1-b9cc-4c34845f0b8e"
      },
      "execution_count": 9,
      "outputs": [
        {
          "output_type": "stream",
          "name": "stderr",
          "text": [
            "\r[*********************100%%**********************]  1 of 1 completed\n"
          ]
        },
        {
          "output_type": "execute_result",
          "data": {
            "text/plain": [
              "0    52.57\n",
              "1    54.32\n",
              "Name: Close, dtype: float64"
            ],
            "text/html": [
              "<div>\n",
              "<style scoped>\n",
              "    .dataframe tbody tr th:only-of-type {\n",
              "        vertical-align: middle;\n",
              "    }\n",
              "\n",
              "    .dataframe tbody tr th {\n",
              "        vertical-align: top;\n",
              "    }\n",
              "\n",
              "    .dataframe thead th {\n",
              "        text-align: right;\n",
              "    }\n",
              "</style>\n",
              "<table border=\"1\" class=\"dataframe\">\n",
              "  <thead>\n",
              "    <tr style=\"text-align: right;\">\n",
              "      <th></th>\n",
              "      <th>Close</th>\n",
              "    </tr>\n",
              "  </thead>\n",
              "  <tbody>\n",
              "    <tr>\n",
              "      <th>0</th>\n",
              "      <td>52.57</td>\n",
              "    </tr>\n",
              "    <tr>\n",
              "      <th>1</th>\n",
              "      <td>54.32</td>\n",
              "    </tr>\n",
              "  </tbody>\n",
              "</table>\n",
              "</div><br><label><b>dtype:</b> float64</label>"
            ]
          },
          "metadata": {},
          "execution_count": 9
        }
      ]
    },
    {
      "cell_type": "markdown",
      "source": [
        "\n",
        "\n",
        "```\n",
        "The mode of CMG in 1 month is 54.\n",
        "```\n",
        "\n"
      ],
      "metadata": {
        "id": "lV2l83g8o5f3"
      }
    },
    {
      "cell_type": "markdown",
      "source": [
        "## **CMG DATA IN 6 MONTHS**"
      ],
      "metadata": {
        "id": "duloGVkNKp6U"
      }
    },
    {
      "cell_type": "code",
      "source": [
        "data = yf.download(\"CMG\", period=\"6mo\")\n",
        "data.Close.mean()"
      ],
      "metadata": {
        "colab": {
          "base_uri": "https://localhost:8080/"
        },
        "id": "cpahcEE4RrFX",
        "outputId": "086b9f08-cb54-4358-f261-fe2e0865093a"
      },
      "execution_count": null,
      "outputs": [
        {
          "output_type": "stream",
          "name": "stderr",
          "text": [
            "\r[*********************100%%**********************]  1 of 1 completed\n"
          ]
        },
        {
          "output_type": "execute_result",
          "data": {
            "text/plain": [
              "58.518603249201696"
            ]
          },
          "metadata": {},
          "execution_count": 61
        }
      ]
    },
    {
      "cell_type": "markdown",
      "source": [
        "\n",
        "\n",
        "```\n",
        "The mean of CMG in 6 months is 58.\n",
        "```\n",
        "\n"
      ],
      "metadata": {
        "id": "vqzHnT2EWLIE"
      }
    },
    {
      "cell_type": "code",
      "source": [
        "data = yf.download(\"CMG\", period=\"6mo\")\n",
        "data.Close.median()"
      ],
      "metadata": {
        "colab": {
          "base_uri": "https://localhost:8080/"
        },
        "id": "XjTXz2prRtap",
        "outputId": "5aa425ae-35b2-4d15-a8d1-b7ed61292e11"
      },
      "execution_count": null,
      "outputs": [
        {
          "output_type": "stream",
          "name": "stderr",
          "text": [
            "\r[*********************100%%**********************]  1 of 1 completed\n"
          ]
        },
        {
          "output_type": "execute_result",
          "data": {
            "text/plain": [
              "58.14739990234375"
            ]
          },
          "metadata": {},
          "execution_count": 62
        }
      ]
    },
    {
      "cell_type": "markdown",
      "source": [
        "\n",
        "\n",
        "```\n",
        "The median of CMG in 6 months is 58.\n",
        "```\n",
        "\n"
      ],
      "metadata": {
        "id": "J0pDnC7xWQ3q"
      }
    },
    {
      "cell_type": "code",
      "source": [
        "data = yf.download(\"CMG\", period=\"6mo\")\n",
        "data.Close.mode()"
      ],
      "metadata": {
        "id": "zXTV6ncNRwFg",
        "colab": {
          "base_uri": "https://localhost:8080/",
          "height": 196
        },
        "outputId": "557ab1d2-b5db-471b-bc05-e9fdf85298fd"
      },
      "execution_count": 10,
      "outputs": [
        {
          "output_type": "stream",
          "name": "stderr",
          "text": [
            "\r[*********************100%%**********************]  1 of 1 completed\n"
          ]
        },
        {
          "output_type": "execute_result",
          "data": {
            "text/plain": [
              "0    52.570000\n",
              "1    54.320000\n",
              "2    58.299999\n",
              "Name: Close, dtype: float64"
            ],
            "text/html": [
              "<div>\n",
              "<style scoped>\n",
              "    .dataframe tbody tr th:only-of-type {\n",
              "        vertical-align: middle;\n",
              "    }\n",
              "\n",
              "    .dataframe tbody tr th {\n",
              "        vertical-align: top;\n",
              "    }\n",
              "\n",
              "    .dataframe thead th {\n",
              "        text-align: right;\n",
              "    }\n",
              "</style>\n",
              "<table border=\"1\" class=\"dataframe\">\n",
              "  <thead>\n",
              "    <tr style=\"text-align: right;\">\n",
              "      <th></th>\n",
              "      <th>Close</th>\n",
              "    </tr>\n",
              "  </thead>\n",
              "  <tbody>\n",
              "    <tr>\n",
              "      <th>0</th>\n",
              "      <td>52.570000</td>\n",
              "    </tr>\n",
              "    <tr>\n",
              "      <th>1</th>\n",
              "      <td>54.320000</td>\n",
              "    </tr>\n",
              "    <tr>\n",
              "      <th>2</th>\n",
              "      <td>58.299999</td>\n",
              "    </tr>\n",
              "  </tbody>\n",
              "</table>\n",
              "</div><br><label><b>dtype:</b> float64</label>"
            ]
          },
          "metadata": {},
          "execution_count": 10
        }
      ]
    },
    {
      "cell_type": "markdown",
      "source": [
        "\n",
        "\n",
        "```\n",
        "The mode of CMG in 6 months is 52.\n",
        "\n",
        "```\n",
        "\n"
      ],
      "metadata": {
        "id": "pNFCQZNbo_4b"
      }
    },
    {
      "cell_type": "markdown",
      "source": [
        "## **CMG DATA IN 2 YEARS**"
      ],
      "metadata": {
        "id": "Tms64_bgKs6B"
      }
    },
    {
      "cell_type": "code",
      "source": [
        "data = yf.download(\"CMG\", period=\"2y\")\n",
        "data.Close.mean()"
      ],
      "metadata": {
        "colab": {
          "base_uri": "https://localhost:8080/"
        },
        "id": "CZpL60Z9RzbD",
        "outputId": "1c08adf3-0eb6-4379-fdbc-7c53ad0fcdbe"
      },
      "execution_count": null,
      "outputs": [
        {
          "output_type": "stream",
          "name": "stderr",
          "text": [
            "\r[*********************100%%**********************]  1 of 1 completed\n"
          ]
        },
        {
          "output_type": "execute_result",
          "data": {
            "text/plain": [
              "42.306085359031115"
            ]
          },
          "metadata": {},
          "execution_count": 63
        }
      ]
    },
    {
      "cell_type": "markdown",
      "source": [
        "\n",
        "\n",
        "```\n",
        "The mean of CMG in 2 years is 42\n",
        "```\n",
        "\n"
      ],
      "metadata": {
        "id": "Avi3ekvSWW0Z"
      }
    },
    {
      "cell_type": "code",
      "source": [
        "data = yf.download(\"CMG\", period=\"2y\")\n",
        "data.Close.median()"
      ],
      "metadata": {
        "colab": {
          "base_uri": "https://localhost:8080/"
        },
        "id": "0DGagngYR2xZ",
        "outputId": "f2f16da0-1bec-4dc2-c9f0-cbfebf1205f1"
      },
      "execution_count": null,
      "outputs": [
        {
          "output_type": "stream",
          "name": "stderr",
          "text": [
            "\r[*********************100%%**********************]  1 of 1 completed\n"
          ]
        },
        {
          "output_type": "execute_result",
          "data": {
            "text/plain": [
              "40.65840148925781"
            ]
          },
          "metadata": {},
          "execution_count": 64
        }
      ]
    },
    {
      "cell_type": "markdown",
      "source": [
        "\n",
        "\n",
        "```\n",
        "The median of CMG in 2 years is 40.\n",
        "```\n",
        "\n"
      ],
      "metadata": {
        "id": "dl7XFilNWb3a"
      }
    },
    {
      "cell_type": "code",
      "source": [
        "data = yf.download(\"CMG\", period=\"2y\")\n",
        "data.Close.mode()"
      ],
      "metadata": {
        "colab": {
          "base_uri": "https://localhost:8080/",
          "height": 258
        },
        "collapsed": true,
        "id": "KO9f5Z0uR4jV",
        "outputId": "6d5e431d-8e74-45c0-a63c-9bbaf276bb4b"
      },
      "execution_count": 11,
      "outputs": [
        {
          "output_type": "stream",
          "name": "stderr",
          "text": [
            "\r[*********************100%%**********************]  1 of 1 completed\n"
          ]
        },
        {
          "output_type": "execute_result",
          "data": {
            "text/plain": [
              "0    41.162399\n",
              "1    44.525002\n",
              "2    52.570000\n",
              "3    54.320000\n",
              "4    58.299999\n",
              "Name: Close, dtype: float64"
            ],
            "text/html": [
              "<div>\n",
              "<style scoped>\n",
              "    .dataframe tbody tr th:only-of-type {\n",
              "        vertical-align: middle;\n",
              "    }\n",
              "\n",
              "    .dataframe tbody tr th {\n",
              "        vertical-align: top;\n",
              "    }\n",
              "\n",
              "    .dataframe thead th {\n",
              "        text-align: right;\n",
              "    }\n",
              "</style>\n",
              "<table border=\"1\" class=\"dataframe\">\n",
              "  <thead>\n",
              "    <tr style=\"text-align: right;\">\n",
              "      <th></th>\n",
              "      <th>Close</th>\n",
              "    </tr>\n",
              "  </thead>\n",
              "  <tbody>\n",
              "    <tr>\n",
              "      <th>0</th>\n",
              "      <td>41.162399</td>\n",
              "    </tr>\n",
              "    <tr>\n",
              "      <th>1</th>\n",
              "      <td>44.525002</td>\n",
              "    </tr>\n",
              "    <tr>\n",
              "      <th>2</th>\n",
              "      <td>52.570000</td>\n",
              "    </tr>\n",
              "    <tr>\n",
              "      <th>3</th>\n",
              "      <td>54.320000</td>\n",
              "    </tr>\n",
              "    <tr>\n",
              "      <th>4</th>\n",
              "      <td>58.299999</td>\n",
              "    </tr>\n",
              "  </tbody>\n",
              "</table>\n",
              "</div><br><label><b>dtype:</b> float64</label>"
            ]
          },
          "metadata": {},
          "execution_count": 11
        }
      ]
    },
    {
      "cell_type": "markdown",
      "source": [
        "\n",
        "\n",
        "```\n",
        "CMG has a mode of 52 in year 2.\n",
        "```\n",
        "\n"
      ],
      "metadata": {
        "id": "kZXetcuApJys"
      }
    },
    {
      "cell_type": "markdown",
      "source": [
        "## **CMG DATA IN 5 YEARS**"
      ],
      "metadata": {
        "id": "CmFtXAVNKzo9"
      }
    },
    {
      "cell_type": "code",
      "source": [
        "data = yf.download(\"CMG\", period=\"5y\")\n",
        "data.Close.mean()"
      ],
      "metadata": {
        "colab": {
          "base_uri": "https://localhost:8080/"
        },
        "id": "U8XgfPE7SlzA",
        "outputId": "a0f07413-1b17-496f-f989-dac344733940"
      },
      "execution_count": null,
      "outputs": [
        {
          "output_type": "stream",
          "name": "stderr",
          "text": [
            "\r[*********************100%%**********************]  1 of 1 completed\n"
          ]
        },
        {
          "output_type": "execute_result",
          "data": {
            "text/plain": [
              "32.42299637480138"
            ]
          },
          "metadata": {},
          "execution_count": 65
        }
      ]
    },
    {
      "cell_type": "markdown",
      "source": [
        "\n",
        "\n",
        "```\n",
        "The mean of CMG in 5 years is 32.\n",
        "```\n",
        "\n"
      ],
      "metadata": {
        "id": "XvaFIWPsWsj6"
      }
    },
    {
      "cell_type": "code",
      "source": [
        "data = yf.download(\"CMG\", period=\"5y\")\n",
        "data.Close.median()"
      ],
      "metadata": {
        "colab": {
          "base_uri": "https://localhost:8080/"
        },
        "id": "TQqkeVmvSv0C",
        "outputId": "2e4cf462-a8b6-48d4-9c1c-b8b608f075a6"
      },
      "execution_count": null,
      "outputs": [
        {
          "output_type": "stream",
          "name": "stderr",
          "text": [
            "\r[*********************100%%**********************]  1 of 1 completed\n"
          ]
        },
        {
          "output_type": "execute_result",
          "data": {
            "text/plain": [
              "30.5310001373291"
            ]
          },
          "metadata": {},
          "execution_count": 66
        }
      ]
    },
    {
      "cell_type": "markdown",
      "source": [
        "\n",
        "\n",
        "```\n",
        "The median of CMG in 5 years is 30.\n",
        "```\n",
        "\n"
      ],
      "metadata": {
        "id": "JMYsbeOwW2gL"
      }
    },
    {
      "cell_type": "code",
      "source": [
        "data = yf.download(\"CMG\", period=\"5y\")\n",
        "data.Close.mode()"
      ],
      "metadata": {
        "id": "JynCkt6oSxhy",
        "colab": {
          "base_uri": "https://localhost:8080/",
          "height": 384
        },
        "outputId": "0f6310eb-a567-434c-d799-46a10c4ceb59"
      },
      "execution_count": 12,
      "outputs": [
        {
          "output_type": "stream",
          "name": "stderr",
          "text": [
            "\r[*********************100%%**********************]  1 of 1 completed\n"
          ]
        },
        {
          "output_type": "execute_result",
          "data": {
            "text/plain": [
              "0    29.600000\n",
              "1    30.200001\n",
              "2    30.879801\n",
              "3    35.967999\n",
              "4    41.162399\n",
              "5    44.525002\n",
              "6    52.570000\n",
              "7    54.320000\n",
              "8    58.299999\n",
              "Name: Close, dtype: float64"
            ],
            "text/html": [
              "<div>\n",
              "<style scoped>\n",
              "    .dataframe tbody tr th:only-of-type {\n",
              "        vertical-align: middle;\n",
              "    }\n",
              "\n",
              "    .dataframe tbody tr th {\n",
              "        vertical-align: top;\n",
              "    }\n",
              "\n",
              "    .dataframe thead th {\n",
              "        text-align: right;\n",
              "    }\n",
              "</style>\n",
              "<table border=\"1\" class=\"dataframe\">\n",
              "  <thead>\n",
              "    <tr style=\"text-align: right;\">\n",
              "      <th></th>\n",
              "      <th>Close</th>\n",
              "    </tr>\n",
              "  </thead>\n",
              "  <tbody>\n",
              "    <tr>\n",
              "      <th>0</th>\n",
              "      <td>29.600000</td>\n",
              "    </tr>\n",
              "    <tr>\n",
              "      <th>1</th>\n",
              "      <td>30.200001</td>\n",
              "    </tr>\n",
              "    <tr>\n",
              "      <th>2</th>\n",
              "      <td>30.879801</td>\n",
              "    </tr>\n",
              "    <tr>\n",
              "      <th>3</th>\n",
              "      <td>35.967999</td>\n",
              "    </tr>\n",
              "    <tr>\n",
              "      <th>4</th>\n",
              "      <td>41.162399</td>\n",
              "    </tr>\n",
              "    <tr>\n",
              "      <th>5</th>\n",
              "      <td>44.525002</td>\n",
              "    </tr>\n",
              "    <tr>\n",
              "      <th>6</th>\n",
              "      <td>52.570000</td>\n",
              "    </tr>\n",
              "    <tr>\n",
              "      <th>7</th>\n",
              "      <td>54.320000</td>\n",
              "    </tr>\n",
              "    <tr>\n",
              "      <th>8</th>\n",
              "      <td>58.299999</td>\n",
              "    </tr>\n",
              "  </tbody>\n",
              "</table>\n",
              "</div><br><label><b>dtype:</b> float64</label>"
            ]
          },
          "metadata": {},
          "execution_count": 12
        }
      ]
    },
    {
      "cell_type": "markdown",
      "source": [
        "\n",
        "\n",
        "```\n",
        "The mode for CMG in 5 years is 50.\n",
        "```\n",
        "\n"
      ],
      "metadata": {
        "id": "yTjm1nntpU6s"
      }
    },
    {
      "cell_type": "markdown",
      "source": [
        "## **LINE GRAPHS FOR 5 YEARS**"
      ],
      "metadata": {
        "id": "VLl_0WAz7J0I"
      }
    },
    {
      "cell_type": "markdown",
      "source": [
        "**AAPL GRAPH**"
      ],
      "metadata": {
        "id": "fj7wVhhc7P-t"
      }
    },
    {
      "cell_type": "code",
      "source": [
        "import yfinance as yf\n",
        "import matplotlib.pyplot as plt\n",
        "import pandas as pd\n",
        "\n",
        "data = pd.DataFrame(yf.download(\"AAPL\", period=\"5y\"))\n",
        "data.Close.plot()\n",
        "plt.title('Line Plot of AAPL Closing Values Over 5 Years')\n",
        "plt.xlabel('Years')\n",
        "plt.ylabel('Close Value of Stock')\n",
        "plt.show()"
      ],
      "metadata": {
        "colab": {
          "base_uri": "https://localhost:8080/",
          "height": 461
        },
        "id": "Zkms8fHF7Orz",
        "outputId": "82b6c069-b07b-4178-dc56-3518646eab3e"
      },
      "execution_count": null,
      "outputs": [
        {
          "output_type": "stream",
          "name": "stderr",
          "text": [
            "\r[*********************100%%**********************]  1 of 1 completed\n"
          ]
        },
        {
          "output_type": "display_data",
          "data": {
            "text/plain": [
              "<Figure size 640x480 with 1 Axes>"
            ],
            "image/png": "[encoded data removed]"
          },
          "metadata": {}
        }
      ]
    },
    {
      "cell_type": "markdown",
      "source": [
        "**NKE GRAPH**"
      ],
      "metadata": {
        "id": "PtlhzaJw72Hv"
      }
    },
    {
      "cell_type": "code",
      "source": [
        "import yfinance as yf\n",
        "import matplotlib.pyplot as plt\n",
        "import pandas as pd\n",
        "\n",
        "data = pd.DataFrame(yf.download(\"NKE\", period=\"5y\"))\n",
        "data.Close.plot()\n",
        "plt.title('Line Plot of NKE Closing Values Over 5 Years')\n",
        "plt.xlabel('Years')\n",
        "plt.ylabel('Close Value of Stock')\n",
        "plt.show()"
      ],
      "metadata": {
        "colab": {
          "base_uri": "https://localhost:8080/",
          "height": 461
        },
        "id": "vWaMCB_E79L2",
        "outputId": "9b22c327-5359-4436-a3f7-de8770d51b1b"
      },
      "execution_count": null,
      "outputs": [
        {
          "output_type": "stream",
          "name": "stderr",
          "text": [
            "\r[*********************100%%**********************]  1 of 1 completed\n"
          ]
        },
        {
          "output_type": "display_data",
          "data": {
            "text/plain": [
              "<Figure size 640x480 with 1 Axes>"
            ],
            "image/png": "[encoded data removed]"
          },
          "metadata": {}
        }
      ]
    },
    {
      "cell_type": "markdown",
      "source": [
        "**SBUX GRAPH**"
      ],
      "metadata": {
        "id": "XNFaeDhLBU8z"
      }
    },
    {
      "cell_type": "code",
      "source": [
        "import yfinance as yf\n",
        "import matplotlib.pyplot as plt\n",
        "import pandas as pd\n",
        "\n",
        "data = pd.DataFrame(yf.download(\"SBUX\", period=\"5y\"))\n",
        "data.Close.plot()\n",
        "plt.title('Line Plot of SBUX Closing Values Over 5 Years')\n",
        "plt.xlabel('Years')\n",
        "plt.ylabel('Close Value of Stock')\n",
        "plt.show()"
      ],
      "metadata": {
        "colab": {
          "base_uri": "https://localhost:8080/",
          "height": 461
        },
        "id": "xBC5TRPhBaqK",
        "outputId": "2bbfb2f3-6fa1-4c68-c670-479effc0e771"
      },
      "execution_count": null,
      "outputs": [
        {
          "output_type": "stream",
          "name": "stderr",
          "text": [
            "\r[*********************100%%**********************]  1 of 1 completed\n"
          ]
        },
        {
          "output_type": "display_data",
          "data": {
            "text/plain": [
              "<Figure size 640x480 with 1 Axes>"
            ],
            "image/png": "[encoded data removed]"
          },
          "metadata": {}
        }
      ]
    },
    {
      "cell_type": "markdown",
      "source": [
        "**HD GRAPH**"
      ],
      "metadata": {
        "id": "UZkn_BUuBlBn"
      }
    },
    {
      "cell_type": "code",
      "source": [
        "import yfinance as yf\n",
        "import matplotlib.pyplot as plt\n",
        "import pandas as pd\n",
        "\n",
        "data = pd.DataFrame(yf.download(\"HD\", period=\"5y\"))\n",
        "data.Close.plot()\n",
        "plt.title('Line Plot of HD Closing Values Over 5 Years')\n",
        "plt.xlabel('Years')\n",
        "plt.ylabel('Close Value of Stock')\n",
        "plt.show()"
      ],
      "metadata": {
        "colab": {
          "base_uri": "https://localhost:8080/",
          "height": 461
        },
        "id": "rrEP1JJJBrgE",
        "outputId": "7a796837-4147-49b3-c518-16d321631978"
      },
      "execution_count": null,
      "outputs": [
        {
          "output_type": "stream",
          "name": "stderr",
          "text": [
            "\r[*********************100%%**********************]  1 of 1 completed\n"
          ]
        },
        {
          "output_type": "display_data",
          "data": {
            "text/plain": [
              "<Figure size 640x480 with 1 Axes>"
            ],
            "image/png": "[encoded data removed]"
          },
          "metadata": {}
        }
      ]
    },
    {
      "cell_type": "markdown",
      "source": [
        "**CMG GRAPH**"
      ],
      "metadata": {
        "id": "Us6cC4uxCM-f"
      }
    },
    {
      "cell_type": "code",
      "source": [
        "import yfinance as yf\n",
        "import matplotlib.pyplot as plt\n",
        "import pandas as pd\n",
        "\n",
        "data = pd.DataFrame(yf.download(\"CMG\", period=\"5y\"))\n",
        "data.Close.plot()\n",
        "plt.title('Line Plot of CMG Closing Values Over 5 Years')\n",
        "plt.xlabel('Years')\n",
        "plt.ylabel('Close Value of Stock')\n",
        "plt.show()"
      ],
      "metadata": {
        "colab": {
          "base_uri": "https://localhost:8080/"
        },
        "id": "os7n6VpZCIYc",
        "outputId": "035bbadf-7994-475a-f46f-57202a0cbb62"
      },
      "execution_count": null,
      "outputs": [
        {
          "output_type": "stream",
          "name": "stderr",
          "text": [
            "\r[*********************100%%**********************]  1 of 1 completed\n"
          ]
        },
        {
          "output_type": "display_data",
          "data": {
            "text/plain": [
              "<Figure size 640x480 with 1 Axes>"
            ],
            "image/png": "[encoded data removed]"
          },
          "metadata": {}
        }
      ]
    }
  ],
  "metadata": {
    "colab": {
      "provenance": []
    },
    "kernelspec": {
      "display_name": "Python 3",
      "name": "python3"
    },
    "language_info": {
      "name": "python"
    }
  },
  "nbformat": 4,
  "nbformat_minor": 0
}